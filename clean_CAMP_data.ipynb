{
 "cells": [
  {
   "cell_type": "code",
   "execution_count": 1,
   "metadata": {
    "collapsed": false
   },
   "outputs": [],
   "source": [
    "import pandas as pd\n",
    "import matplotlib.pyplot as plt\n",
    "import seaborn as sns\n",
    "import numpy as np\n",
    "%matplotlib inline"
   ]
  },
  {
   "cell_type": "markdown",
   "metadata": {},
   "source": [
    "#### Import the data."
   ]
  },
  {
   "cell_type": "code",
   "execution_count": 2,
   "metadata": {
    "collapsed": true
   },
   "outputs": [],
   "source": [
    "pod_num = 'cham_3'"
   ]
  },
  {
   "cell_type": "code",
   "execution_count": 3,
   "metadata": {
    "collapsed": false
   },
   "outputs": [
    {
     "ename": "IOError",
     "evalue": "File pod_files/cham3_coll.csv does not exist",
     "output_type": "error",
     "traceback": [
      "\u001b[0;31m---------------------------------------------------------------------------\u001b[0m",
      "\u001b[0;31mIOError\u001b[0m                                   Traceback (most recent call last)",
      "\u001b[0;32m<ipython-input-3-e7ca67689175>\u001b[0m in \u001b[0;36m<module>\u001b[0;34m()\u001b[0m\n\u001b[1;32m      1\u001b[0m \u001b[0mfile\u001b[0m \u001b[0;34m=\u001b[0m \u001b[0;34m'pod_files/cham3_coll.csv'\u001b[0m\u001b[0;34m\u001b[0m\u001b[0m\n\u001b[0;32m----> 2\u001b[0;31m \u001b[0mdf_K\u001b[0m \u001b[0;34m=\u001b[0m \u001b[0mpd\u001b[0m\u001b[0;34m.\u001b[0m\u001b[0mread_table\u001b[0m\u001b[0;34m(\u001b[0m\u001b[0mfile\u001b[0m\u001b[0;34m,\u001b[0m \u001b[0msep\u001b[0m\u001b[0;34m=\u001b[0m\u001b[0;34m'\\s+'\u001b[0m\u001b[0;34m,\u001b[0m \u001b[0mparse_dates\u001b[0m\u001b[0;34m=\u001b[0m\u001b[0;34m[\u001b[0m\u001b[0;34m[\u001b[0m\u001b[0;36m1\u001b[0m\u001b[0;34m,\u001b[0m \u001b[0;36m2\u001b[0m\u001b[0;34m]\u001b[0m\u001b[0;34m]\u001b[0m\u001b[0;34m,\u001b[0m \u001b[0mindex_col\u001b[0m\u001b[0;34m=\u001b[0m\u001b[0;36m0\u001b[0m\u001b[0;34m)\u001b[0m\u001b[0;34m\u001b[0m\u001b[0m\n\u001b[0m\u001b[1;32m      3\u001b[0m \u001b[0mdf_K\u001b[0m \u001b[0;34m=\u001b[0m \u001b[0mdf_K\u001b[0m\u001b[0;34m.\u001b[0m\u001b[0mrename\u001b[0m\u001b[0;34m(\u001b[0m\u001b[0mcolumns\u001b[0m\u001b[0;34m=\u001b[0m\u001b[0;34m{\u001b[0m\u001b[0;34m'∂TempIN'\u001b[0m\u001b[0;34m:\u001b[0m \u001b[0;34m'Temp'\u001b[0m\u001b[0;34m}\u001b[0m\u001b[0;34m)\u001b[0m\u001b[0;34m\u001b[0m\u001b[0m\n\u001b[1;32m      4\u001b[0m \u001b[0mdf_K\u001b[0m \u001b[0;34m=\u001b[0m \u001b[0mdf_K\u001b[0m\u001b[0;34m.\u001b[0m\u001b[0mrename\u001b[0m\u001b[0;34m(\u001b[0m\u001b[0mcolumns\u001b[0m\u001b[0;34m=\u001b[0m\u001b[0;34m{\u001b[0m\u001b[0;34m'o3'\u001b[0m\u001b[0;34m:\u001b[0m \u001b[0;34m'e2v03'\u001b[0m\u001b[0;34m}\u001b[0m\u001b[0;34m)\u001b[0m\u001b[0;34m\u001b[0m\u001b[0m\n\u001b[1;32m      5\u001b[0m \u001b[0mdf_K\u001b[0m \u001b[0;34m=\u001b[0m \u001b[0mdf_K\u001b[0m\u001b[0;34m.\u001b[0m\u001b[0mrename\u001b[0m\u001b[0;34m(\u001b[0m\u001b[0mcolumns\u001b[0m\u001b[0;34m=\u001b[0m\u001b[0;34m{\u001b[0m\u001b[0;34m'RhIN'\u001b[0m\u001b[0;34m:\u001b[0m \u001b[0;34m'Rh'\u001b[0m\u001b[0;34m}\u001b[0m\u001b[0;34m)\u001b[0m\u001b[0;34m\u001b[0m\u001b[0m\n",
      "\u001b[0;32m/Users/berkeleyalmand/anaconda/lib/python2.7/site-packages/pandas/io/parsers.pyc\u001b[0m in \u001b[0;36mparser_f\u001b[0;34m(filepath_or_buffer, sep, dialect, compression, doublequote, escapechar, quotechar, quoting, skipinitialspace, lineterminator, header, index_col, names, prefix, skiprows, skipfooter, skip_footer, na_values, true_values, false_values, delimiter, converters, dtype, usecols, engine, delim_whitespace, as_recarray, na_filter, compact_ints, use_unsigned, low_memory, buffer_lines, warn_bad_lines, error_bad_lines, keep_default_na, thousands, comment, decimal, parse_dates, keep_date_col, dayfirst, date_parser, memory_map, float_precision, nrows, iterator, chunksize, verbose, encoding, squeeze, mangle_dupe_cols, tupleize_cols, infer_datetime_format, skip_blank_lines)\u001b[0m\n\u001b[1;32m    489\u001b[0m                     skip_blank_lines=skip_blank_lines)\n\u001b[1;32m    490\u001b[0m \u001b[0;34m\u001b[0m\u001b[0m\n\u001b[0;32m--> 491\u001b[0;31m         \u001b[0;32mreturn\u001b[0m \u001b[0m_read\u001b[0m\u001b[0;34m(\u001b[0m\u001b[0mfilepath_or_buffer\u001b[0m\u001b[0;34m,\u001b[0m \u001b[0mkwds\u001b[0m\u001b[0;34m)\u001b[0m\u001b[0;34m\u001b[0m\u001b[0m\n\u001b[0m\u001b[1;32m    492\u001b[0m \u001b[0;34m\u001b[0m\u001b[0m\n\u001b[1;32m    493\u001b[0m     \u001b[0mparser_f\u001b[0m\u001b[0;34m.\u001b[0m\u001b[0m__name__\u001b[0m \u001b[0;34m=\u001b[0m \u001b[0mname\u001b[0m\u001b[0;34m\u001b[0m\u001b[0m\n",
      "\u001b[0;32m/Users/berkeleyalmand/anaconda/lib/python2.7/site-packages/pandas/io/parsers.pyc\u001b[0m in \u001b[0;36m_read\u001b[0;34m(filepath_or_buffer, kwds)\u001b[0m\n\u001b[1;32m    266\u001b[0m \u001b[0;34m\u001b[0m\u001b[0m\n\u001b[1;32m    267\u001b[0m     \u001b[0;31m# Create the parser.\u001b[0m\u001b[0;34m\u001b[0m\u001b[0;34m\u001b[0m\u001b[0m\n\u001b[0;32m--> 268\u001b[0;31m     \u001b[0mparser\u001b[0m \u001b[0;34m=\u001b[0m \u001b[0mTextFileReader\u001b[0m\u001b[0;34m(\u001b[0m\u001b[0mfilepath_or_buffer\u001b[0m\u001b[0;34m,\u001b[0m \u001b[0;34m**\u001b[0m\u001b[0mkwds\u001b[0m\u001b[0;34m)\u001b[0m\u001b[0;34m\u001b[0m\u001b[0m\n\u001b[0m\u001b[1;32m    269\u001b[0m \u001b[0;34m\u001b[0m\u001b[0m\n\u001b[1;32m    270\u001b[0m     \u001b[0;32mif\u001b[0m \u001b[0;34m(\u001b[0m\u001b[0mnrows\u001b[0m \u001b[0;32mis\u001b[0m \u001b[0;32mnot\u001b[0m \u001b[0mNone\u001b[0m\u001b[0;34m)\u001b[0m \u001b[0;32mand\u001b[0m \u001b[0;34m(\u001b[0m\u001b[0mchunksize\u001b[0m \u001b[0;32mis\u001b[0m \u001b[0;32mnot\u001b[0m \u001b[0mNone\u001b[0m\u001b[0;34m)\u001b[0m\u001b[0;34m:\u001b[0m\u001b[0;34m\u001b[0m\u001b[0m\n",
      "\u001b[0;32m/Users/berkeleyalmand/anaconda/lib/python2.7/site-packages/pandas/io/parsers.pyc\u001b[0m in \u001b[0;36m__init__\u001b[0;34m(self, f, engine, **kwds)\u001b[0m\n\u001b[1;32m    581\u001b[0m             \u001b[0mself\u001b[0m\u001b[0;34m.\u001b[0m\u001b[0moptions\u001b[0m\u001b[0;34m[\u001b[0m\u001b[0;34m'has_index_names'\u001b[0m\u001b[0;34m]\u001b[0m \u001b[0;34m=\u001b[0m \u001b[0mkwds\u001b[0m\u001b[0;34m[\u001b[0m\u001b[0;34m'has_index_names'\u001b[0m\u001b[0;34m]\u001b[0m\u001b[0;34m\u001b[0m\u001b[0m\n\u001b[1;32m    582\u001b[0m \u001b[0;34m\u001b[0m\u001b[0m\n\u001b[0;32m--> 583\u001b[0;31m         \u001b[0mself\u001b[0m\u001b[0;34m.\u001b[0m\u001b[0m_make_engine\u001b[0m\u001b[0;34m(\u001b[0m\u001b[0mself\u001b[0m\u001b[0;34m.\u001b[0m\u001b[0mengine\u001b[0m\u001b[0;34m)\u001b[0m\u001b[0;34m\u001b[0m\u001b[0m\n\u001b[0m\u001b[1;32m    584\u001b[0m \u001b[0;34m\u001b[0m\u001b[0m\n\u001b[1;32m    585\u001b[0m     \u001b[0;32mdef\u001b[0m \u001b[0m_get_options_with_defaults\u001b[0m\u001b[0;34m(\u001b[0m\u001b[0mself\u001b[0m\u001b[0;34m,\u001b[0m \u001b[0mengine\u001b[0m\u001b[0;34m)\u001b[0m\u001b[0;34m:\u001b[0m\u001b[0;34m\u001b[0m\u001b[0m\n",
      "\u001b[0;32m/Users/berkeleyalmand/anaconda/lib/python2.7/site-packages/pandas/io/parsers.pyc\u001b[0m in \u001b[0;36m_make_engine\u001b[0;34m(self, engine)\u001b[0m\n\u001b[1;32m    722\u001b[0m     \u001b[0;32mdef\u001b[0m \u001b[0m_make_engine\u001b[0m\u001b[0;34m(\u001b[0m\u001b[0mself\u001b[0m\u001b[0;34m,\u001b[0m \u001b[0mengine\u001b[0m\u001b[0;34m=\u001b[0m\u001b[0;34m'c'\u001b[0m\u001b[0;34m)\u001b[0m\u001b[0;34m:\u001b[0m\u001b[0;34m\u001b[0m\u001b[0m\n\u001b[1;32m    723\u001b[0m         \u001b[0;32mif\u001b[0m \u001b[0mengine\u001b[0m \u001b[0;34m==\u001b[0m \u001b[0;34m'c'\u001b[0m\u001b[0;34m:\u001b[0m\u001b[0;34m\u001b[0m\u001b[0m\n\u001b[0;32m--> 724\u001b[0;31m             \u001b[0mself\u001b[0m\u001b[0;34m.\u001b[0m\u001b[0m_engine\u001b[0m \u001b[0;34m=\u001b[0m \u001b[0mCParserWrapper\u001b[0m\u001b[0;34m(\u001b[0m\u001b[0mself\u001b[0m\u001b[0;34m.\u001b[0m\u001b[0mf\u001b[0m\u001b[0;34m,\u001b[0m \u001b[0;34m**\u001b[0m\u001b[0mself\u001b[0m\u001b[0;34m.\u001b[0m\u001b[0moptions\u001b[0m\u001b[0;34m)\u001b[0m\u001b[0;34m\u001b[0m\u001b[0m\n\u001b[0m\u001b[1;32m    725\u001b[0m         \u001b[0;32melse\u001b[0m\u001b[0;34m:\u001b[0m\u001b[0;34m\u001b[0m\u001b[0m\n\u001b[1;32m    726\u001b[0m             \u001b[0;32mif\u001b[0m \u001b[0mengine\u001b[0m \u001b[0;34m==\u001b[0m \u001b[0;34m'python'\u001b[0m\u001b[0;34m:\u001b[0m\u001b[0;34m\u001b[0m\u001b[0m\n",
      "\u001b[0;32m/Users/berkeleyalmand/anaconda/lib/python2.7/site-packages/pandas/io/parsers.pyc\u001b[0m in \u001b[0;36m__init__\u001b[0;34m(self, src, **kwds)\u001b[0m\n\u001b[1;32m   1091\u001b[0m         \u001b[0mkwds\u001b[0m\u001b[0;34m[\u001b[0m\u001b[0;34m'allow_leading_cols'\u001b[0m\u001b[0;34m]\u001b[0m \u001b[0;34m=\u001b[0m \u001b[0mself\u001b[0m\u001b[0;34m.\u001b[0m\u001b[0mindex_col\u001b[0m \u001b[0;32mis\u001b[0m \u001b[0;32mnot\u001b[0m \u001b[0mFalse\u001b[0m\u001b[0;34m\u001b[0m\u001b[0m\n\u001b[1;32m   1092\u001b[0m \u001b[0;34m\u001b[0m\u001b[0m\n\u001b[0;32m-> 1093\u001b[0;31m         \u001b[0mself\u001b[0m\u001b[0;34m.\u001b[0m\u001b[0m_reader\u001b[0m \u001b[0;34m=\u001b[0m \u001b[0m_parser\u001b[0m\u001b[0;34m.\u001b[0m\u001b[0mTextReader\u001b[0m\u001b[0;34m(\u001b[0m\u001b[0msrc\u001b[0m\u001b[0;34m,\u001b[0m \u001b[0;34m**\u001b[0m\u001b[0mkwds\u001b[0m\u001b[0;34m)\u001b[0m\u001b[0;34m\u001b[0m\u001b[0m\n\u001b[0m\u001b[1;32m   1094\u001b[0m \u001b[0;34m\u001b[0m\u001b[0m\n\u001b[1;32m   1095\u001b[0m         \u001b[0;31m# XXX\u001b[0m\u001b[0;34m\u001b[0m\u001b[0;34m\u001b[0m\u001b[0m\n",
      "\u001b[0;32mpandas/parser.pyx\u001b[0m in \u001b[0;36mpandas.parser.TextReader.__cinit__ (pandas/parser.c:3229)\u001b[0;34m()\u001b[0m\n",
      "\u001b[0;32mpandas/parser.pyx\u001b[0m in \u001b[0;36mpandas.parser.TextReader._setup_parser_source (pandas/parser.c:6042)\u001b[0;34m()\u001b[0m\n",
      "\u001b[0;31mIOError\u001b[0m: File pod_files/cham3_coll.csv does not exist"
     ]
    }
   ],
   "source": [
    "file = 'pod_files/cham3_coll.csv'\n",
    "df_K = pd.read_table(file, sep='\\s+', parse_dates=[[1, 2]], index_col=0)\n",
    "df_K = df_K.rename(columns={'∂TempIN': 'Temp'})\n",
    "df_K = df_K.rename(columns={'o3': 'e2v03'})\n",
    "df_K = df_K.rename(columns={'RhIN': 'Rh'})"
   ]
  },
  {
   "cell_type": "markdown",
   "metadata": {},
   "source": [
    "# Import the data"
   ]
  },
  {
   "cell_type": "code",
   "execution_count": 52,
   "metadata": {
    "collapsed": false
   },
   "outputs": [],
   "source": [
    "df_K = pd.io.parsers.read_csv(filepath_or_buffer = 'data/cham3_coll1.csv', parse_dates = [0], index_col = 0)"
   ]
  },
  {
   "cell_type": "code",
   "execution_count": 53,
   "metadata": {
    "collapsed": false
   },
   "outputs": [
    {
     "data": {
      "text/html": [
       "<div>\n",
       "<table border=\"1\" class=\"dataframe\">\n",
       "  <thead>\n",
       "    <tr style=\"text-align: right;\">\n",
       "      <th></th>\n",
       "      <th>UnixTime</th>\n",
       "      <th>o3</th>\n",
       "      <th>no2</th>\n",
       "      <th>TempIN</th>\n",
       "      <th>RhIN</th>\n",
       "    </tr>\n",
       "    <tr>\n",
       "      <th>YYYY/MM/DD_HH:MM:SS</th>\n",
       "      <th></th>\n",
       "      <th></th>\n",
       "      <th></th>\n",
       "      <th></th>\n",
       "      <th></th>\n",
       "    </tr>\n",
       "  </thead>\n",
       "  <tbody>\n",
       "    <tr>\n",
       "      <th>2014-07-17 17:55:52</th>\n",
       "      <td>1405619752</td>\n",
       "      <td>608</td>\n",
       "      <td>874</td>\n",
       "      <td>36.2</td>\n",
       "      <td>23.3</td>\n",
       "    </tr>\n",
       "    <tr>\n",
       "      <th>2014-07-17 17:55:57</th>\n",
       "      <td>1405619757</td>\n",
       "      <td>608</td>\n",
       "      <td>874</td>\n",
       "      <td>36.1</td>\n",
       "      <td>23.3</td>\n",
       "    </tr>\n",
       "    <tr>\n",
       "      <th>2014-07-17 17:56:02</th>\n",
       "      <td>1405619762</td>\n",
       "      <td>608</td>\n",
       "      <td>873</td>\n",
       "      <td>36.2</td>\n",
       "      <td>23.3</td>\n",
       "    </tr>\n",
       "    <tr>\n",
       "      <th>2014-07-17 17:56:06</th>\n",
       "      <td>1405619766</td>\n",
       "      <td>608</td>\n",
       "      <td>873</td>\n",
       "      <td>36.2</td>\n",
       "      <td>23.2</td>\n",
       "    </tr>\n",
       "    <tr>\n",
       "      <th>2014-07-17 17:56:11</th>\n",
       "      <td>1405619771</td>\n",
       "      <td>608</td>\n",
       "      <td>873</td>\n",
       "      <td>36.2</td>\n",
       "      <td>23.2</td>\n",
       "    </tr>\n",
       "  </tbody>\n",
       "</table>\n",
       "</div>"
      ],
      "text/plain": [
       "                       UnixTime   o3  no2  TempIN  RhIN\n",
       "YYYY/MM/DD_HH:MM:SS                                    \n",
       "2014-07-17 17:55:52  1405619752  608  874    36.2  23.3\n",
       "2014-07-17 17:55:57  1405619757  608  874    36.1  23.3\n",
       "2014-07-17 17:56:02  1405619762  608  873    36.2  23.3\n",
       "2014-07-17 17:56:06  1405619766  608  873    36.2  23.2\n",
       "2014-07-17 17:56:11  1405619771  608  873    36.2  23.2"
      ]
     },
     "execution_count": 53,
     "metadata": {},
     "output_type": "execute_result"
    }
   ],
   "source": [
    "df_K.head()"
   ]
  },
  {
   "cell_type": "code",
   "execution_count": 36,
   "metadata": {
    "collapsed": false
   },
   "outputs": [],
   "source": [
    "# df_K.drop(df_K.columns[[0,2,3,6,7,10,11,12,13]], axis=1, inplace=True)\n",
    "# print df_K[:5]"
   ]
  },
  {
   "cell_type": "markdown",
   "metadata": {},
   "source": [
    "#### Enter the column number you'd like to evaluate."
   ]
  },
  {
   "cell_type": "code",
   "execution_count": 42,
   "metadata": {
    "collapsed": false
   },
   "outputs": [],
   "source": [
    "#col = raw_input('Enter the column you would like to inspect: ')\n",
    "col = 'no2'"
   ]
  },
  {
   "cell_type": "markdown",
   "metadata": {},
   "source": [
    "#### Define a function, called unique_column_values, that displays every unique value in the selected column."
   ]
  },
  {
   "cell_type": "code",
   "execution_count": 43,
   "metadata": {
    "collapsed": false
   },
   "outputs": [],
   "source": [
    "def unique_column_values(df,column_name):\n",
    "\n",
    "    #df.keys generates a list containing all of the column names\n",
    "    column_names = df.keys()\n",
    "    #look at every unique value in each column sto make sure they look reasonable\n",
    "    #column_num is the number of the column that the user picks\n",
    "    print column_name, df[column_name].unique()"
   ]
  },
  {
   "cell_type": "markdown",
   "metadata": {},
   "source": [
    "#### Call the unique_column_values function for column of the data that you want to evaluate. Look at the data and make sure there aren't any obvious outliers.\n"
   ]
  },
  {
   "cell_type": "code",
   "execution_count": 44,
   "metadata": {
    "collapsed": false
   },
   "outputs": [
    {
     "name": "stdout",
     "output_type": "stream",
     "text": [
      "no2 [998 993 990 987 984 983 981 979 978 976 975 974 972 970 969 968 967 966\n",
      " 965 964 963 962 961 960 958 957 956 955 954 953 952 951 950 949 948 947\n",
      " 945 944 943 942 941 940 939 938 937 936 935 934 932 931 930 929 928 927\n",
      " 926 925 924 923 922 921 920 919 918 917 916 915 914 913 912 911 910 908\n",
      " 907 906 905 904 903 902 901 900 899 898 897 896 895 894 893 892 891 890\n",
      " 889 888 887 886 885 883 881 880 879 878 877 876 875 874 873 872 871 870\n",
      " 869 868 867 866 865 864 863 862 861 860 859 858 857 856 855 854 853 852\n",
      " 851 850 849 848 847 846 845 844 843 842 841 840 839 838 837 836 835 834\n",
      " 833 832 831 830 829 828 827 826 825 824 823 822 821 820 819 818 817 816\n",
      " 815 814 813 812 811 810 809 808 807 806 805 804 803 802 801 800 799 798\n",
      " 797 796 795 794 793 792 791 790 789 788 787 786 785 784 783 782 781 780\n",
      " 779 778 777 776 775 774 773 772 771 770 769 768 767 766 764 765 763 762\n",
      " 761 760 759 758 757 756 755 754 753 752 751 750 749 748 747 746 745 744\n",
      " 743 742 741 740 739 738 737 736 735 734 733 732 731 730 729 728 727 726\n",
      " 725 724 723 722 721 720 719 718 717 716 715 714 713 712 711 710 709 708\n",
      " 707 706 705 704 703 702 701 700 699 698 697 696 695 694 693 692 691 690\n",
      " 689 688 687 686 685 684 683 682 681 680 679 678 677 676 675 674 673 672\n",
      " 671 670 669 668 667 666 665 664 663 662 661 660 659 658 657 656 655 654\n",
      " 653 652 651 650 649 648 647 646 645 644 643 642 641 640 639 638 637 636\n",
      " 635 634 633 632 631 630 629 628 627 626 625 624 623 622 621 620 619 618\n",
      " 617 616 615 614 613 612 611 610 609 608 607 606 605 604 603 602 601 600\n",
      " 599 598 597]\n"
     ]
    }
   ],
   "source": [
    "unique_column_values(df_K,col)"
   ]
  },
  {
   "cell_type": "markdown",
   "metadata": {},
   "source": [
    "#### Define a function, column_plot, that gives you a plot of all of the data on one column. Look for outliers."
   ]
  },
  {
   "cell_type": "code",
   "execution_count": 45,
   "metadata": {
    "collapsed": false
   },
   "outputs": [],
   "source": [
    "def column_plot(df, column_name, time_chunk):\n",
    "\n",
    "    #df.keys generates a list containing all of the column names\n",
    "    column_names = df.keys()\n",
    "    print column_names\n",
    "    #xlim = ['2014-07-27 0:00:00', '2014-7-28 0:00:00' ]\n",
    "    #xlim = assign_pod_calibration_times(pod_num, time_chunk)\n",
    "    #look at every unique value in each column sto make sure they look reasonable\n",
    "    #column_num is the number of the column that the user picks\n",
    "    df[column_name].plot(marker = '.',figsize = (20,10), legend = True)\n",
    "    #, xlim = xlim"
   ]
  },
  {
   "cell_type": "markdown",
   "metadata": {},
   "source": [
    "#### Call the function, column_plot, using the column of the data that you want to plot."
   ]
  },
  {
   "cell_type": "code",
   "execution_count": 46,
   "metadata": {
    "collapsed": false
   },
   "outputs": [
    {
     "name": "stdout",
     "output_type": "stream",
     "text": [
      "Index([u'UnixTime', u'o3', u'no2', u'TempIN', u'RhIN'], dtype='object')\n"
     ]
    },
    {
     "data": {
      "image/png": "[encoded data removed]",
      "text/plain": [
       "<matplotlib.figure.Figure at 0x10a91ac90>"
      ]
     },
     "metadata": {},
     "output_type": "display_data"
    }
   ],
   "source": [
    "column_plot(df_K, col, 1)"
   ]
  },
  {
   "cell_type": "markdown",
   "metadata": {},
   "source": [
    "## You can stop here and move on the the next column if you don't see any outliers!!!!"
   ]
  },
  {
   "cell_type": "markdown",
   "metadata": {},
   "source": [
    "#### Define a function, remove_data_above, that removes data above a specified value."
   ]
  },
  {
   "cell_type": "code",
   "execution_count": 18,
   "metadata": {
    "collapsed": false
   },
   "outputs": [],
   "source": [
    "def remove_data_above(df,column_name,n):\n",
    "\n",
    "    #df.keys generates a list containing all of the column names\n",
    "    column_names = df.keys()\n",
    "    #remove values below/above n from the matrix\n",
    "    df = df[df[column_name] < n]\n",
    "    #print unique values to make sure the bad ones got removed\n",
    "    print column_name, df[column_name].unique()\n",
    "    #return the dataframe, so that it can be used to change df_K\n",
    "    return df"
   ]
  },
  {
   "cell_type": "markdown",
   "metadata": {},
   "source": [
    "#### Define a function, remove_data_below, that removes data below a specified value."
   ]
  },
  {
   "cell_type": "code",
   "execution_count": 19,
   "metadata": {
    "collapsed": false
   },
   "outputs": [],
   "source": [
    "def remove_data_below(df,column_name,n):\n",
    "\n",
    "    #df.keys generates a list containing all of the column names\n",
    "    column_names = df.keys()\n",
    "    #remove values below/above n from the matrix\n",
    "    df = df[df[column_name] > n]\n",
    "    #print unique values to make sure the bad ones got removed\n",
    "    print column_name, df[column_name].unique()\n",
    "    #return the dataframe, so that it can be used to change df_K\n",
    "    return df"
   ]
  },
  {
   "cell_type": "markdown",
   "metadata": {},
   "source": [
    "#### Call the function, remove_data_above, to remove data above a certain value, by entering (df_K,col,value)."
   ]
  },
  {
   "cell_type": "code",
   "execution_count": 49,
   "metadata": {
    "collapsed": false
   },
   "outputs": [
    {
     "name": "stdout",
     "output_type": "stream",
     "text": [
      "no2 [874 873 872 871 870 869 868 867 866 865 864 863 862 861 860 859 858 857\n",
      " 856 855 854 853 852 851 850 849 848 847 846 845 844 843 842 841 840 839\n",
      " 838 837 836 835 834 833 832 831 830 829 828 827 826 825 824 823 822 821\n",
      " 820 819 818 817 816 815 814 813 812 811 810 809 808 807 806 805 804 803\n",
      " 802 801 800 799 798 797 796 795 794 793 792 791 790 789 788 787 786 785\n",
      " 784 783 782 781 780 779 778 777 776 775 774 773 772 771 770 769 768 767\n",
      " 766 764 765 763 762 761 760 759 758 757 756 755 754 753 752 751 750 749\n",
      " 748 747 746 745 744 743 742 741 740 739 738 737 736 735 734 733 732 731\n",
      " 730 729 728 727 726 725 724 723 722 721 720 719 718 717 716 715 714 713\n",
      " 712 711 710 709 708 707 706 705 704 703 702 701 700 699 698 697 696 695\n",
      " 694 693 692 691 690 689 688 687 686 685 684 683 682 681 680 679 678 677\n",
      " 676 675 674 673 672 671 670 669 668 667 666 665 664 663 662 661 660 659\n",
      " 658 657 656 655 654 653 652 651 650 649 648 647 646 645 644 643 642 641\n",
      " 640 639 638 637 636 635 634 633 632 631 630 629 628 627 626 625 624 623\n",
      " 622 621 620 619 618 617 616 615 614 613 612 611 610 609 608 607 606 605\n",
      " 604 603 602 601 600 599 598 597]\n"
     ]
    }
   ],
   "source": [
    "df_K = remove_data_above(df_K, col, 875)"
   ]
  },
  {
   "cell_type": "markdown",
   "metadata": {},
   "source": [
    "#### Call the function, remove_data_below, to remove data below a certain value, by entering (df_K,col,value)."
   ]
  },
  {
   "cell_type": "code",
   "execution_count": 14,
   "metadata": {
    "collapsed": false
   },
   "outputs": [
    {
     "name": "stdout",
     "output_type": "stream",
     "text": [
      "o3_ppb [ 38.  43.  46.  49.  44.  42.  35.  36.  37.  39.  17.  19.  20.  18.  15.\n",
      "  13.  11.   8.   5.   7.   6.  10.  23.  21.   9.  14.  16.  25.  31.  34.\n",
      "  29.  22.  24.  27.  33.  12.  30.  26.  32.  28.  47.  50.  61.  62.  60.\n",
      "  58.  57.  55.  54.  52.  41.  51.  56.  66.  59.  64.  53.  40.  45.  63.\n",
      "  65.  68.  67.  69.  70.  48.  79.  78.  77.  75.  71.  73.  74.  82.  83.\n",
      "  84.  81.  72.  80.  87.  76.  85.  89.  86.]\n"
     ]
    }
   ],
   "source": [
    "df_K = remove_data_below(df_K, col, 4)"
   ]
  },
  {
   "cell_type": "markdown",
   "metadata": {},
   "source": [
    "#### Replot the data to see how well the cleaning worked."
   ]
  },
  {
   "cell_type": "code",
   "execution_count": 50,
   "metadata": {
    "collapsed": false
   },
   "outputs": [
    {
     "name": "stdout",
     "output_type": "stream",
     "text": [
      "Index([u'UnixTime', u'o3', u'no2', u'TempIN', u'RhIN'], dtype='object')\n"
     ]
    },
    {
     "data": {
      "image/png": "[encoded data removed]",
      "text/plain": [
       "<matplotlib.figure.Figure at 0x10bd0bc10>"
      ]
     },
     "metadata": {},
     "output_type": "display_data"
    }
   ],
   "source": [
    "column_plot(df_K, col, 2)"
   ]
  },
  {
   "cell_type": "markdown",
   "metadata": {},
   "source": [
    "#### Go back and clean the data again if necessary."
   ]
  },
  {
   "cell_type": "markdown",
   "metadata": {},
   "source": [
    "#### Otherwise, write the new dataframe to a file. Do this after cleaning each row, so that if you make a mistake with a row, you don't have to reclean all of the other rows."
   ]
  },
  {
   "cell_type": "code",
   "execution_count": 51,
   "metadata": {
    "collapsed": false
   },
   "outputs": [],
   "source": [
    "df_K.to_csv(path_or_buf = 'data/cham3_coll1.csv')"
   ]
  },
  {
   "cell_type": "code",
   "execution_count": null,
   "metadata": {
    "collapsed": false
   },
   "outputs": [],
   "source": []
  }
 ],
 "metadata": {
  "kernelspec": {
   "display_name": "Python 2",
   "language": "python",
   "name": "python2"
  },
  "language_info": {
   "codemirror_mode": {
    "name": "ipython",
    "version": 2
   },
   "file_extension": ".py",
   "mimetype": "text/x-python",
   "name": "python",
   "nbconvert_exporter": "python",
   "pygments_lexer": "ipython2",
   "version": "2.7.10"
  }
 },
 "nbformat": 4,
 "nbformat_minor": 0
}

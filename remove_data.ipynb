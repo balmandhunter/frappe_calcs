{
 "cells": [
  {
   "cell_type": "code",
   "execution_count": 41,
   "metadata": {
    "collapsed": true
   },
   "outputs": [],
   "source": [
    "import pandas as pd\n",
    "import matplotlib.pyplot as plt\n",
    "import seaborn as sns\n",
    "import numpy as np\n",
    "from scipy import signal\n",
    "%matplotlib inline"
   ]
  },
  {
   "cell_type": "markdown",
   "metadata": {},
   "source": [
    "#Import the open/close time data."
   ]
  },
  {
   "cell_type": "code",
   "execution_count": 42,
   "metadata": {
    "collapsed": false
   },
   "outputs": [
    {
     "name": "stdout",
     "output_type": "stream",
     "text": [
      "   year  month  day  hour  min     sec  close_hour  cmin  csec  open_hour  \\\n",
      "0  2014      7   18    17   20  25.278          16    39     3         16   \n",
      "1  2014      7   18    18   24   4.878          17    42    45         17   \n",
      "2  2014      7   18    19   27  32.778          18    46    18         18   \n",
      "3  2014      7   18    20   31   6.978          19    49    44         19   \n",
      "4  2014      7   18    21   34  51.978          20    53    25         20   \n",
      "\n",
      "   omin  osec    camb     css      flux  \n",
      "0    38    33  41.183  42.369  0.016510  \n",
      "1    42    15  49.626  37.207 -0.172850  \n",
      "2    45    48  26.638  46.415  0.275260  \n",
      "3    49    14  34.020  18.391 -0.217530  \n",
      "4    52    55  30.356  30.103 -0.003522  \n"
     ]
    }
   ],
   "source": [
    "df = pd.read_csv(filepath_or_buffer = 'reference_data/all_results.csv', index_col = False)\n",
    "print df[:5]"
   ]
  },
  {
   "cell_type": "markdown",
   "metadata": {},
   "source": [
    "####Convert the time columns to python time stamps."
   ]
  },
  {
   "cell_type": "code",
   "execution_count": 44,
   "metadata": {
    "collapsed": false
   },
   "outputs": [],
   "source": [
    "df['sec'] = df['sec'].map(lambda x: 0 if x == 60 else x)\n",
    "def f(x): return round(x)\n",
    "df['sec'] = map(f, df['sec'])\n",
    "df['closing'] = pd.to_datetime(df.year.astype(str) + '-' + df.month.astype(str) + '-' + df.day.astype(str) + ' ' + df.open_hour.astype(str) + ':' + df['omin'].astype(str) + ':' + df.osec.astype(str))\n",
    "df['closed'] = pd.to_datetime(df.year.astype(str) + '-' + df.month.astype(str) + '-' + df.day.astype(str) + ' ' + df.close_hour.astype(str) + ':' + df['cmin'].astype(str) + ':' + df.csec.astype(str))\n",
    "df['end_of_run'] = pd.to_datetime(df.year.astype(str) + '-' + df.month.astype(str) + '-' + df.day.astype(str) + ' ' + df.hour.astype(str) + ':' + df['min'].astype(str) + ':' + df.sec.astype(str))\n",
    "df = df.set_index(pd.DatetimeIndex(df['end_of_run']))"
   ]
  },
  {
   "cell_type": "code",
   "execution_count": 45,
   "metadata": {
    "collapsed": false
   },
   "outputs": [],
   "source": [
    "df.drop(df.columns[[0,1,2,3,4,5,6,7,8,9,10,11,12,13]], axis=1, inplace=True)"
   ]
  },
  {
   "cell_type": "code",
   "execution_count": 46,
   "metadata": {
    "collapsed": false
   },
   "outputs": [
    {
     "data": {
      "text/html": [
       "<div style=\"max-height:1000px;max-width:1500px;overflow:auto;\">\n",
       "<table border=\"1\" class=\"dataframe\">\n",
       "  <thead>\n",
       "    <tr style=\"text-align: right;\">\n",
       "      <th></th>\n",
       "      <th>flux</th>\n",
       "      <th>closing</th>\n",
       "      <th>closed</th>\n",
       "      <th>end_of_run</th>\n",
       "    </tr>\n",
       "  </thead>\n",
       "  <tbody>\n",
       "    <tr>\n",
       "      <th>2014-07-18 17:20:25</th>\n",
       "      <td>0.016510</td>\n",
       "      <td>2014-07-18 16:38:33</td>\n",
       "      <td>2014-07-18 16:39:03</td>\n",
       "      <td>2014-07-18 17:20:25</td>\n",
       "    </tr>\n",
       "    <tr>\n",
       "      <th>2014-07-18 18:24:05</th>\n",
       "      <td>-0.172850</td>\n",
       "      <td>2014-07-18 17:42:15</td>\n",
       "      <td>2014-07-18 17:42:45</td>\n",
       "      <td>2014-07-18 18:24:05</td>\n",
       "    </tr>\n",
       "    <tr>\n",
       "      <th>2014-07-18 19:27:33</th>\n",
       "      <td>0.275260</td>\n",
       "      <td>2014-07-18 18:45:48</td>\n",
       "      <td>2014-07-18 18:46:18</td>\n",
       "      <td>2014-07-18 19:27:33</td>\n",
       "    </tr>\n",
       "    <tr>\n",
       "      <th>2014-07-18 20:31:07</th>\n",
       "      <td>-0.217530</td>\n",
       "      <td>2014-07-18 19:49:14</td>\n",
       "      <td>2014-07-18 19:49:44</td>\n",
       "      <td>2014-07-18 20:31:07</td>\n",
       "    </tr>\n",
       "    <tr>\n",
       "      <th>2014-07-18 21:34:52</th>\n",
       "      <td>-0.003522</td>\n",
       "      <td>2014-07-18 20:52:55</td>\n",
       "      <td>2014-07-18 20:53:25</td>\n",
       "      <td>2014-07-18 21:34:52</td>\n",
       "    </tr>\n",
       "  </tbody>\n",
       "</table>\n",
       "</div>"
      ],
      "text/plain": [
       "                         flux             closing              closed  \\\n",
       "2014-07-18 17:20:25  0.016510 2014-07-18 16:38:33 2014-07-18 16:39:03   \n",
       "2014-07-18 18:24:05 -0.172850 2014-07-18 17:42:15 2014-07-18 17:42:45   \n",
       "2014-07-18 19:27:33  0.275260 2014-07-18 18:45:48 2014-07-18 18:46:18   \n",
       "2014-07-18 20:31:07 -0.217530 2014-07-18 19:49:14 2014-07-18 19:49:44   \n",
       "2014-07-18 21:34:52 -0.003522 2014-07-18 20:52:55 2014-07-18 20:53:25   \n",
       "\n",
       "                             end_of_run  \n",
       "2014-07-18 17:20:25 2014-07-18 17:20:25  \n",
       "2014-07-18 18:24:05 2014-07-18 18:24:05  \n",
       "2014-07-18 19:27:33 2014-07-18 19:27:33  \n",
       "2014-07-18 20:31:07 2014-07-18 20:31:07  \n",
       "2014-07-18 21:34:52 2014-07-18 21:34:52  "
      ]
     },
     "execution_count": 46,
     "metadata": {},
     "output_type": "execute_result"
    }
   ],
   "source": [
    "df.head()"
   ]
  },
  {
   "cell_type": "markdown",
   "metadata": {},
   "source": [
    "##Import the reference data."
   ]
  },
  {
   "cell_type": "code",
   "execution_count": 47,
   "metadata": {
    "collapsed": false
   },
   "outputs": [
    {
     "name": "stdout",
     "output_type": "stream",
     "text": [
      "                      o3_ppb\n",
      "date                        \n",
      "2014-07-25 12:06:00       65\n",
      "2014-07-25 12:07:00       67\n",
      "2014-07-25 12:08:00       68\n",
      "2014-07-25 12:09:00       66\n",
      "2014-07-25 12:10:00       64\n"
     ]
    }
   ],
   "source": [
    "df_R = pd.read_csv(filepath_or_buffer = 'reference_data/chamber_2b_data/all_ref_data.csv', parse_dates = [0], index_col = 0)\n",
    "print df_R[:5]"
   ]
  },
  {
   "cell_type": "code",
   "execution_count": 48,
   "metadata": {
    "collapsed": false
   },
   "outputs": [],
   "source": [
    "df['start'] = df.closing - pd.Timedelta(minutes=10)\n",
    "df['stop'] = df.closed + pd.Timedelta(minutes=10)"
   ]
  },
  {
   "cell_type": "code",
   "execution_count": 49,
   "metadata": {
    "collapsed": false
   },
   "outputs": [
    {
     "data": {
      "text/plain": [
       "flux                     -0.10543\n",
       "closing       2014-07-25 15:42:31\n",
       "closed        2014-07-25 15:43:01\n",
       "end_of_run    2014-07-25 16:24:22\n",
       "start         2014-07-25 15:32:31\n",
       "stop          2014-07-25 15:53:01\n",
       "Name: 2014-07-25 16:24:22, dtype: object"
      ]
     },
     "execution_count": 49,
     "metadata": {},
     "output_type": "execute_result"
    }
   ],
   "source": [
    "df.irow(148)"
   ]
  },
  {
   "cell_type": "code",
   "execution_count": 50,
   "metadata": {
    "collapsed": false,
    "scrolled": false
   },
   "outputs": [],
   "source": [
    "df_new = pd.DataFrame({'o3_ppb':[]})\n",
    "date_list = []\n",
    "o3_list = []\n",
    "for row_index, row in df.iterrows():\n",
    "    for row_index_ref, row_ref in df_R.iterrows():\n",
    "        if row_index_ref >= (row.closed + pd.Timedelta(minutes=4)) and row_index_ref <= (row.closed + pd.Timedelta(minutes=7)):\n",
    "            date_list.append(row_index_ref)\n",
    "            o3_list.append(int(row_ref.values))"
   ]
  },
  {
   "cell_type": "code",
   "execution_count": 51,
   "metadata": {
    "collapsed": false
   },
   "outputs": [],
   "source": [
    "df_new.o3_ppb = o3_list\n",
    "df_new.index = date_list"
   ]
  },
  {
   "cell_type": "code",
   "execution_count": 52,
   "metadata": {
    "collapsed": false,
    "scrolled": false
   },
   "outputs": [
    {
     "data": {
      "text/html": [
       "<div style=\"max-height:1000px;max-width:1500px;overflow:auto;\">\n",
       "<table border=\"1\" class=\"dataframe\">\n",
       "  <thead>\n",
       "    <tr style=\"text-align: right;\">\n",
       "      <th></th>\n",
       "      <th>o3_ppb</th>\n",
       "    </tr>\n",
       "  </thead>\n",
       "  <tbody>\n",
       "    <tr>\n",
       "      <th>2014-07-25 23:25:00</th>\n",
       "      <td>38</td>\n",
       "    </tr>\n",
       "    <tr>\n",
       "      <th>2014-07-25 23:26:00</th>\n",
       "      <td>37</td>\n",
       "    </tr>\n",
       "    <tr>\n",
       "      <th>2014-07-25 23:27:00</th>\n",
       "      <td>39</td>\n",
       "    </tr>\n",
       "    <tr>\n",
       "      <th>2014-07-25 15:48:00</th>\n",
       "      <td>40</td>\n",
       "    </tr>\n",
       "    <tr>\n",
       "      <th>2014-07-25 15:49:00</th>\n",
       "      <td>42</td>\n",
       "    </tr>\n",
       "    <tr>\n",
       "      <th>2014-07-25 15:50:00</th>\n",
       "      <td>43</td>\n",
       "    </tr>\n",
       "    <tr>\n",
       "      <th>2014-07-25 16:51:00</th>\n",
       "      <td>39</td>\n",
       "    </tr>\n",
       "    <tr>\n",
       "      <th>2014-07-25 16:52:00</th>\n",
       "      <td>37</td>\n",
       "    </tr>\n",
       "    <tr>\n",
       "      <th>2014-07-25 16:53:00</th>\n",
       "      <td>36</td>\n",
       "    </tr>\n",
       "    <tr>\n",
       "      <th>2014-07-25 17:55:00</th>\n",
       "      <td>40</td>\n",
       "    </tr>\n",
       "    <tr>\n",
       "      <th>2014-07-25 17:56:00</th>\n",
       "      <td>39</td>\n",
       "    </tr>\n",
       "    <tr>\n",
       "      <th>2014-07-25 17:57:00</th>\n",
       "      <td>39</td>\n",
       "    </tr>\n",
       "    <tr>\n",
       "      <th>2014-07-25 18:58:00</th>\n",
       "      <td>44</td>\n",
       "    </tr>\n",
       "    <tr>\n",
       "      <th>2014-07-25 18:59:00</th>\n",
       "      <td>42</td>\n",
       "    </tr>\n",
       "    <tr>\n",
       "      <th>2014-07-25 19:00:00</th>\n",
       "      <td>45</td>\n",
       "    </tr>\n",
       "    <tr>\n",
       "      <th>2014-07-25 20:02:00</th>\n",
       "      <td>36</td>\n",
       "    </tr>\n",
       "    <tr>\n",
       "      <th>2014-07-25 20:03:00</th>\n",
       "      <td>37</td>\n",
       "    </tr>\n",
       "    <tr>\n",
       "      <th>2014-07-25 20:04:00</th>\n",
       "      <td>37</td>\n",
       "    </tr>\n",
       "    <tr>\n",
       "      <th>2014-07-25 21:06:00</th>\n",
       "      <td>39</td>\n",
       "    </tr>\n",
       "    <tr>\n",
       "      <th>2014-07-25 21:07:00</th>\n",
       "      <td>36</td>\n",
       "    </tr>\n",
       "    <tr>\n",
       "      <th>2014-07-25 21:08:00</th>\n",
       "      <td>38</td>\n",
       "    </tr>\n",
       "    <tr>\n",
       "      <th>2014-07-25 22:10:00</th>\n",
       "      <td>31</td>\n",
       "    </tr>\n",
       "    <tr>\n",
       "      <th>2014-07-25 22:11:00</th>\n",
       "      <td>32</td>\n",
       "    </tr>\n",
       "    <tr>\n",
       "      <th>2014-07-25 22:12:00</th>\n",
       "      <td>29</td>\n",
       "    </tr>\n",
       "    <tr>\n",
       "      <th>2014-07-25 23:13:00</th>\n",
       "      <td>30</td>\n",
       "    </tr>\n",
       "    <tr>\n",
       "      <th>2014-07-25 23:14:00</th>\n",
       "      <td>31</td>\n",
       "    </tr>\n",
       "    <tr>\n",
       "      <th>2014-07-25 23:15:00</th>\n",
       "      <td>32</td>\n",
       "    </tr>\n",
       "    <tr>\n",
       "      <th>2014-07-26 00:17:00</th>\n",
       "      <td>29</td>\n",
       "    </tr>\n",
       "    <tr>\n",
       "      <th>2014-07-26 00:18:00</th>\n",
       "      <td>30</td>\n",
       "    </tr>\n",
       "    <tr>\n",
       "      <th>2014-07-26 00:19:00</th>\n",
       "      <td>31</td>\n",
       "    </tr>\n",
       "    <tr>\n",
       "      <th>2014-07-26 01:21:00</th>\n",
       "      <td>35</td>\n",
       "    </tr>\n",
       "    <tr>\n",
       "      <th>2014-07-26 01:22:00</th>\n",
       "      <td>35</td>\n",
       "    </tr>\n",
       "    <tr>\n",
       "      <th>2014-07-26 01:23:00</th>\n",
       "      <td>35</td>\n",
       "    </tr>\n",
       "    <tr>\n",
       "      <th>2014-07-26 02:25:00</th>\n",
       "      <td>34</td>\n",
       "    </tr>\n",
       "    <tr>\n",
       "      <th>2014-07-26 02:26:00</th>\n",
       "      <td>34</td>\n",
       "    </tr>\n",
       "    <tr>\n",
       "      <th>2014-07-26 02:27:00</th>\n",
       "      <td>34</td>\n",
       "    </tr>\n",
       "    <tr>\n",
       "      <th>2014-07-26 03:29:00</th>\n",
       "      <td>40</td>\n",
       "    </tr>\n",
       "    <tr>\n",
       "      <th>2014-07-26 03:30:00</th>\n",
       "      <td>29</td>\n",
       "    </tr>\n",
       "    <tr>\n",
       "      <th>2014-07-26 03:31:00</th>\n",
       "      <td>26</td>\n",
       "    </tr>\n",
       "    <tr>\n",
       "      <th>2014-07-26 04:33:00</th>\n",
       "      <td>17</td>\n",
       "    </tr>\n",
       "    <tr>\n",
       "      <th>2014-07-26 04:34:00</th>\n",
       "      <td>20</td>\n",
       "    </tr>\n",
       "    <tr>\n",
       "      <th>2014-07-26 04:35:00</th>\n",
       "      <td>22</td>\n",
       "    </tr>\n",
       "    <tr>\n",
       "      <th>2014-07-26 05:37:00</th>\n",
       "      <td>24</td>\n",
       "    </tr>\n",
       "    <tr>\n",
       "      <th>2014-07-26 05:38:00</th>\n",
       "      <td>21</td>\n",
       "    </tr>\n",
       "    <tr>\n",
       "      <th>2014-07-26 05:39:00</th>\n",
       "      <td>21</td>\n",
       "    </tr>\n",
       "    <tr>\n",
       "      <th>2014-07-26 06:41:00</th>\n",
       "      <td>33</td>\n",
       "    </tr>\n",
       "    <tr>\n",
       "      <th>2014-07-26 06:42:00</th>\n",
       "      <td>31</td>\n",
       "    </tr>\n",
       "    <tr>\n",
       "      <th>2014-07-26 06:43:00</th>\n",
       "      <td>33</td>\n",
       "    </tr>\n",
       "    <tr>\n",
       "      <th>2014-07-26 07:45:00</th>\n",
       "      <td>17</td>\n",
       "    </tr>\n",
       "    <tr>\n",
       "      <th>2014-07-26 07:46:00</th>\n",
       "      <td>13</td>\n",
       "    </tr>\n",
       "  </tbody>\n",
       "</table>\n",
       "</div>"
      ],
      "text/plain": [
       "                     o3_ppb\n",
       "2014-07-25 23:25:00      38\n",
       "2014-07-25 23:26:00      37\n",
       "2014-07-25 23:27:00      39\n",
       "2014-07-25 15:48:00      40\n",
       "2014-07-25 15:49:00      42\n",
       "2014-07-25 15:50:00      43\n",
       "2014-07-25 16:51:00      39\n",
       "2014-07-25 16:52:00      37\n",
       "2014-07-25 16:53:00      36\n",
       "2014-07-25 17:55:00      40\n",
       "2014-07-25 17:56:00      39\n",
       "2014-07-25 17:57:00      39\n",
       "2014-07-25 18:58:00      44\n",
       "2014-07-25 18:59:00      42\n",
       "2014-07-25 19:00:00      45\n",
       "2014-07-25 20:02:00      36\n",
       "2014-07-25 20:03:00      37\n",
       "2014-07-25 20:04:00      37\n",
       "2014-07-25 21:06:00      39\n",
       "2014-07-25 21:07:00      36\n",
       "2014-07-25 21:08:00      38\n",
       "2014-07-25 22:10:00      31\n",
       "2014-07-25 22:11:00      32\n",
       "2014-07-25 22:12:00      29\n",
       "2014-07-25 23:13:00      30\n",
       "2014-07-25 23:14:00      31\n",
       "2014-07-25 23:15:00      32\n",
       "2014-07-26 00:17:00      29\n",
       "2014-07-26 00:18:00      30\n",
       "2014-07-26 00:19:00      31\n",
       "2014-07-26 01:21:00      35\n",
       "2014-07-26 01:22:00      35\n",
       "2014-07-26 01:23:00      35\n",
       "2014-07-26 02:25:00      34\n",
       "2014-07-26 02:26:00      34\n",
       "2014-07-26 02:27:00      34\n",
       "2014-07-26 03:29:00      40\n",
       "2014-07-26 03:30:00      29\n",
       "2014-07-26 03:31:00      26\n",
       "2014-07-26 04:33:00      17\n",
       "2014-07-26 04:34:00      20\n",
       "2014-07-26 04:35:00      22\n",
       "2014-07-26 05:37:00      24\n",
       "2014-07-26 05:38:00      21\n",
       "2014-07-26 05:39:00      21\n",
       "2014-07-26 06:41:00      33\n",
       "2014-07-26 06:42:00      31\n",
       "2014-07-26 06:43:00      33\n",
       "2014-07-26 07:45:00      17\n",
       "2014-07-26 07:46:00      13"
      ]
     },
     "execution_count": 52,
     "metadata": {},
     "output_type": "execute_result"
    }
   ],
   "source": [
    "df_new[:50]"
   ]
  },
  {
   "cell_type": "code",
   "execution_count": 53,
   "metadata": {
    "collapsed": true
   },
   "outputs": [],
   "source": [
    "df_new.to_csv(path_or_buf = 'reference_data/closed_only.csv')"
   ]
  },
  {
   "cell_type": "code",
   "execution_count": null,
   "metadata": {
    "collapsed": true
   },
   "outputs": [],
   "source": []
  }
 ],
 "metadata": {
  "kernelspec": {
   "display_name": "Python 2",
   "language": "python",
   "name": "python2"
  },
  "language_info": {
   "codemirror_mode": {
    "name": "ipython",
    "version": 2
   },
   "file_extension": ".py",
   "mimetype": "text/x-python",
   "name": "python",
   "nbconvert_exporter": "python",
   "pygments_lexer": "ipython2",
   "version": "2.7.10"
  }
 },
 "nbformat": 4,
 "nbformat_minor": 0
}

{
 "cells": [
  {
   "cell_type": "code",
   "execution_count": 12,
   "metadata": {
    "collapsed": false
   },
   "outputs": [
    {
     "name": "stdout",
     "output_type": "stream",
     "text": [
      "The autoreload extension is already loaded. To reload it, use:\n",
      "  %reload_ext autoreload\n"
     ]
    }
   ],
   "source": [
    "import pandas as pd\n",
    "import matplotlib.pyplot as plt\n",
    "import seaborn as sns\n",
    "import numpy as np\n",
    "from sklearn.preprocessing import PolynomialFeatures\n",
    "\n",
    "%matplotlib inline\n",
    "%load_ext autoreload\n",
    "%autoreload 2\n",
    "from creation_functions import *"
   ]
  },
  {
   "cell_type": "code",
   "execution_count": 65,
   "metadata": {
    "collapsed": false
   },
   "outputs": [
    {
     "name": "stdout",
     "output_type": "stream",
     "text": [
      "                       UnixTime  e2v03  no2  Temp    Rh\n",
      "date                                                   \n",
      "2014-07-17 17:55:52  1405619752    608  874  36.2  23.3\n",
      "2014-07-17 17:55:57  1405619757    608  874  36.1  23.3\n",
      "2014-07-17 17:56:02  1405619762    608  873  36.2  23.3\n",
      "2014-07-17 17:56:06  1405619766    608  873  36.2  23.2\n",
      "2014-07-17 17:56:11  1405619771    608  873  36.2  23.2\n"
     ]
    }
   ],
   "source": [
    "df_P = pd.io.parsers.read_csv(filepath_or_buffer = 'data/cham3_coll.csv',index_col = 0)\n",
    "print df_P[:5]"
   ]
  },
  {
   "cell_type": "code",
   "execution_count": 66,
   "metadata": {
    "collapsed": false
   },
   "outputs": [
    {
     "name": "stdout",
     "output_type": "stream",
     "text": [
      "                     e2v03  no2  Temp    Rh\n",
      "date                                       \n",
      "2014-07-17 17:55:52    608  874  36.2  23.3\n",
      "2014-07-17 17:55:57    608  874  36.1  23.3\n",
      "2014-07-17 17:56:02    608  873  36.2  23.3\n",
      "2014-07-17 17:56:06    608  873  36.2  23.2\n",
      "2014-07-17 17:56:11    608  873  36.2  23.2\n"
     ]
    }
   ],
   "source": [
    "df_P.drop(df_P.columns[0], axis=1, inplace=True)\n",
    "print df_P.head()"
   ]
  },
  {
   "cell_type": "markdown",
   "metadata": {},
   "source": [
    "## Make log, slope, and integral terms"
   ]
  },
  {
   "cell_type": "code",
   "execution_count": 67,
   "metadata": {
    "collapsed": false
   },
   "outputs": [
    {
     "name": "stdout",
     "output_type": "stream",
     "text": [
      "['e2v03', 'ln_O3', 'Temp', 'ln_temp', 'Rh', 'ln_rh']\n"
     ]
    }
   ],
   "source": [
    "#log terms\n",
    "df_P['ln_O3'] = np.log(df_P['e2v03'])\n",
    "df_P['ln_temp'] =np.log(df_P['Temp'])\n",
    "df_P['ln_rh'] = np.log(df_P['Rh'])\n",
    "\n",
    "feature_list = ['e2v03', 'ln_O3', 'Temp', 'ln_temp', 'Rh', 'ln_rh']\n",
    "print feature_list"
   ]
  },
  {
   "cell_type": "code",
   "execution_count": 68,
   "metadata": {
    "collapsed": false
   },
   "outputs": [
    {
     "name": "stdout",
     "output_type": "stream",
     "text": [
      "0\n",
      "1\n",
      "2\n",
      "3\n",
      "4\n",
      "5\n",
      "['e2v03', 'no2', 'Temp', 'Rh', 'ln_O3', 'ln_temp', 'ln_rh', 'e2v03_int_lag_1', 'e2v03_int_lag_3', 'e2v03_int_lag_5', 'e2v03_int_lead_1', 'e2v03_int_lead_3', 'e2v03_int_lead_5', 'diff', 'e2v03_slope_lag_1', 'e2v03_slope_lag_3', 'e2v03_slope_lag_5', 'e2v03_slope_lead_1', 'e2v03_slope_lead_3', 'e2v03_slope_lead_5', 'ln_O3_int_lag_1', 'ln_O3_int_lag_3', 'ln_O3_int_lag_5', 'ln_O3_int_lead_1', 'ln_O3_int_lead_3', 'ln_O3_int_lead_5', 'ln_O3_slope_lag_1', 'ln_O3_slope_lag_3', 'ln_O3_slope_lag_5', 'ln_O3_slope_lead_1', 'ln_O3_slope_lead_3', 'ln_O3_slope_lead_5', 'Temp_int_lag_1', 'Temp_int_lag_3', 'Temp_int_lag_5', 'Temp_int_lead_1', 'Temp_int_lead_3', 'Temp_int_lead_5', 'Temp_slope_lag_1', 'Temp_slope_lag_3', 'Temp_slope_lag_5', 'Temp_slope_lead_1', 'Temp_slope_lead_3', 'Temp_slope_lead_5', 'ln_temp_int_lag_1', 'ln_temp_int_lag_3', 'ln_temp_int_lag_5', 'ln_temp_int_lead_1', 'ln_temp_int_lead_3', 'ln_temp_int_lead_5', 'ln_temp_slope_lag_1', 'ln_temp_slope_lag_3', 'ln_temp_slope_lag_5', 'ln_temp_slope_lead_1', 'ln_temp_slope_lead_3', 'ln_temp_slope_lead_5', 'Rh_int_lag_1', 'Rh_int_lag_3', 'Rh_int_lag_5', 'Rh_int_lead_1', 'Rh_int_lead_3', 'Rh_int_lead_5', 'Rh_slope_lag_1', 'Rh_slope_lag_3', 'Rh_slope_lag_5', 'Rh_slope_lead_1', 'Rh_slope_lead_3', 'Rh_slope_lead_5', 'ln_rh_int_lag_1', 'ln_rh_int_lag_3', 'ln_rh_int_lag_5', 'ln_rh_int_lead_1', 'ln_rh_int_lead_3', 'ln_rh_int_lead_5', 'ln_rh_slope_lag_1', 'ln_rh_slope_lag_3', 'ln_rh_slope_lag_5', 'ln_rh_slope_lead_1', 'ln_rh_slope_lead_3', 'ln_rh_slope_lead_5']\n"
     ]
    }
   ],
   "source": [
    "for i in range(0,len(feature_list)):\n",
    "    print i\n",
    "    df_P = make_func_caller_find_lag_integral(df_P, 1, 5, 2, feature_list[i])\n",
    "    df_P = make_func_caller_find_lead_integral(df_P, 1, 5, 2, feature_list[i])\n",
    "    df_P = make_func_caller_find_lag_slope(df_P, 1, 5, 2, feature_list[i])\n",
    "    df_P = make_func_caller_find_lead_slope(df_P, 1, 5, 2, feature_list[i])\n",
    "    df_P = make_func_caller_find_lag_integral(df_P, 1, 5, 2, feature_list[i])\n",
    "    df_P = make_func_caller_find_lead_integral(df_P, 1, 5, 2, feature_list[i])\n",
    "    df_P = make_func_caller_find_lag_slope(df_P, 1, 5, 2, feature_list[i])\n",
    "    df_P = make_func_caller_find_lead_slope(df_P, 1, 5, 2, feature_list[i])\n",
    "\n",
    "features = list(df_P.columns)\n",
    "print features"
   ]
  },
  {
   "cell_type": "code",
   "execution_count": 79,
   "metadata": {
    "collapsed": false
   },
   "outputs": [
    {
     "data": {
      "text/plain": [
       "(77884, 80)"
      ]
     },
     "execution_count": 79,
     "metadata": {},
     "output_type": "execute_result"
    }
   ],
   "source": [
    "df_P.shape"
   ]
  },
  {
   "cell_type": "code",
   "execution_count": 70,
   "metadata": {
    "collapsed": true
   },
   "outputs": [],
   "source": [
    "#Delete the first and last 90 rows of the dataframe to remove all NaNs.\n",
    "df_P = df_P.ix[10:len(df_P['e2v03'])-10]"
   ]
  },
  {
   "cell_type": "markdown",
   "metadata": {},
   "source": [
    "#### Make polynomial and interaction features"
   ]
  },
  {
   "cell_type": "code",
   "execution_count": 87,
   "metadata": {
    "collapsed": false
   },
   "outputs": [],
   "source": [
    "X = df_P[feature_list].values\n",
    "poly = PolynomialFeatures(2)\n",
    "features = poly.fit_transform(X)"
   ]
  },
  {
   "cell_type": "markdown",
   "metadata": {},
   "source": [
    "#### See which features are combined by poly"
   ]
  },
  {
   "cell_type": "code",
   "execution_count": 107,
   "metadata": {
    "collapsed": false
   },
   "outputs": [
    {
     "data": {
      "text/plain": [
       "1"
      ]
     },
     "execution_count": 107,
     "metadata": {},
     "output_type": "execute_result"
    }
   ],
   "source": [
    "poly.powers_[1,0]"
   ]
  },
  {
   "cell_type": "code",
   "execution_count": 119,
   "metadata": {
    "collapsed": false
   },
   "outputs": [],
   "source": [
    "name = []\n",
    "i_count = 0\n",
    "for i in range(0,len(poly.powers_)):\n",
    "    if np.sum(poly.powers_[i]) > 1:\n",
    "        for j in range(0,len(feature_list)):\n",
    "            if poly.powers_[i,j] == 2:\n",
    "                name.append(feature_list[j] + '_sq')\n",
    "            if poly.powers_[i,j] == 1:\n",
    "                i_count += 1\n",
    "                if i_count == 1:\n",
    "                    name1 = feature_list[j]\n",
    "                elif i_count == 2:\n",
    "                    name.append(name1 + '_interact_' +feature_list[j])\n",
    "                    i_count = 0\n",
    "    else: \n",
    "        name.append(0)\n",
    "        "
   ]
  },
  {
   "cell_type": "code",
   "execution_count": 142,
   "metadata": {
    "collapsed": false
   },
   "outputs": [],
   "source": [
    "poly_feat = []\n",
    "poly_data = []\n",
    "for i in range(0,len(poly.powers_)):\n",
    "    if name[i] != 0:\n",
    "        poly_feat.append(name[i])\n",
    "        df_P[name[i]] = features[:,i]\n",
    "        poly_data.append(features[i])"
   ]
  },
  {
   "cell_type": "code",
   "execution_count": 143,
   "metadata": {
    "collapsed": false
   },
   "outputs": [
    {
     "data": {
      "text/html": [
       "<div>\n",
       "<table border=\"1\" class=\"dataframe\">\n",
       "  <thead>\n",
       "    <tr style=\"text-align: right;\">\n",
       "      <th></th>\n",
       "      <th>e2v03</th>\n",
       "      <th>no2</th>\n",
       "      <th>Temp</th>\n",
       "      <th>Rh</th>\n",
       "      <th>ln_O3</th>\n",
       "      <th>ln_temp</th>\n",
       "      <th>ln_rh</th>\n",
       "      <th>e2v03_int_lag_1</th>\n",
       "      <th>e2v03_int_lag_3</th>\n",
       "      <th>e2v03_int_lag_5</th>\n",
       "      <th>...</th>\n",
       "      <th>Temp_sq</th>\n",
       "      <th>Temp_interact_ln_temp</th>\n",
       "      <th>Temp_interact_Rh</th>\n",
       "      <th>Temp_interact_ln_rh</th>\n",
       "      <th>ln_temp_sq</th>\n",
       "      <th>ln_temp_interact_Rh</th>\n",
       "      <th>ln_temp_interact_ln_rh</th>\n",
       "      <th>Rh_sq</th>\n",
       "      <th>Rh_interact_ln_rh</th>\n",
       "      <th>ln_rh_sq</th>\n",
       "    </tr>\n",
       "    <tr>\n",
       "      <th>date</th>\n",
       "      <th></th>\n",
       "      <th></th>\n",
       "      <th></th>\n",
       "      <th></th>\n",
       "      <th></th>\n",
       "      <th></th>\n",
       "      <th></th>\n",
       "      <th></th>\n",
       "      <th></th>\n",
       "      <th></th>\n",
       "      <th></th>\n",
       "      <th></th>\n",
       "      <th></th>\n",
       "      <th></th>\n",
       "      <th></th>\n",
       "      <th></th>\n",
       "      <th></th>\n",
       "      <th></th>\n",
       "      <th></th>\n",
       "      <th></th>\n",
       "      <th></th>\n",
       "    </tr>\n",
       "  </thead>\n",
       "  <tbody>\n",
       "    <tr>\n",
       "      <th>2014-07-17 17:56:40</th>\n",
       "      <td>608</td>\n",
       "      <td>871</td>\n",
       "      <td>36.2</td>\n",
       "      <td>23.4</td>\n",
       "      <td>6.410175</td>\n",
       "      <td>3.589059</td>\n",
       "      <td>3.152736</td>\n",
       "      <td>0</td>\n",
       "      <td>1218</td>\n",
       "      <td>2434.5</td>\n",
       "      <td>...</td>\n",
       "      <td>1310.44</td>\n",
       "      <td>129.923940</td>\n",
       "      <td>847.08</td>\n",
       "      <td>114.129044</td>\n",
       "      <td>12.881345</td>\n",
       "      <td>83.983983</td>\n",
       "      <td>11.315356</td>\n",
       "      <td>547.56</td>\n",
       "      <td>73.774023</td>\n",
       "      <td>9.939744</td>\n",
       "    </tr>\n",
       "    <tr>\n",
       "      <th>2014-07-17 17:56:45</th>\n",
       "      <td>609</td>\n",
       "      <td>870</td>\n",
       "      <td>36.2</td>\n",
       "      <td>23.3</td>\n",
       "      <td>6.411818</td>\n",
       "      <td>3.589059</td>\n",
       "      <td>3.148453</td>\n",
       "      <td>0</td>\n",
       "      <td>1217.5</td>\n",
       "      <td>2435</td>\n",
       "      <td>...</td>\n",
       "      <td>1310.44</td>\n",
       "      <td>129.923940</td>\n",
       "      <td>843.46</td>\n",
       "      <td>113.974012</td>\n",
       "      <td>12.881345</td>\n",
       "      <td>83.625077</td>\n",
       "      <td>11.299985</td>\n",
       "      <td>542.89</td>\n",
       "      <td>73.358963</td>\n",
       "      <td>9.912759</td>\n",
       "    </tr>\n",
       "    <tr>\n",
       "      <th>2014-07-17 17:56:50</th>\n",
       "      <td>609</td>\n",
       "      <td>870</td>\n",
       "      <td>36.2</td>\n",
       "      <td>23.3</td>\n",
       "      <td>6.411818</td>\n",
       "      <td>3.589059</td>\n",
       "      <td>3.148453</td>\n",
       "      <td>0</td>\n",
       "      <td>1217</td>\n",
       "      <td>2435</td>\n",
       "      <td>...</td>\n",
       "      <td>1310.44</td>\n",
       "      <td>129.923940</td>\n",
       "      <td>843.46</td>\n",
       "      <td>113.974012</td>\n",
       "      <td>12.881345</td>\n",
       "      <td>83.625077</td>\n",
       "      <td>11.299985</td>\n",
       "      <td>542.89</td>\n",
       "      <td>73.358963</td>\n",
       "      <td>9.912759</td>\n",
       "    </tr>\n",
       "    <tr>\n",
       "      <th>2014-07-17 17:56:55</th>\n",
       "      <td>608</td>\n",
       "      <td>869</td>\n",
       "      <td>36.3</td>\n",
       "      <td>23.3</td>\n",
       "      <td>6.410175</td>\n",
       "      <td>3.591818</td>\n",
       "      <td>3.148453</td>\n",
       "      <td>0</td>\n",
       "      <td>1217.5</td>\n",
       "      <td>2435</td>\n",
       "      <td>...</td>\n",
       "      <td>1317.69</td>\n",
       "      <td>130.382984</td>\n",
       "      <td>845.79</td>\n",
       "      <td>114.288857</td>\n",
       "      <td>12.901155</td>\n",
       "      <td>83.689353</td>\n",
       "      <td>11.308671</td>\n",
       "      <td>542.89</td>\n",
       "      <td>73.358963</td>\n",
       "      <td>9.912759</td>\n",
       "    </tr>\n",
       "    <tr>\n",
       "      <th>2014-07-17 17:57:00</th>\n",
       "      <td>609</td>\n",
       "      <td>868</td>\n",
       "      <td>36.2</td>\n",
       "      <td>23.2</td>\n",
       "      <td>6.411818</td>\n",
       "      <td>3.589059</td>\n",
       "      <td>3.144152</td>\n",
       "      <td>0</td>\n",
       "      <td>1217.5</td>\n",
       "      <td>2434.5</td>\n",
       "      <td>...</td>\n",
       "      <td>1310.44</td>\n",
       "      <td>129.923940</td>\n",
       "      <td>839.84</td>\n",
       "      <td>113.818312</td>\n",
       "      <td>12.881345</td>\n",
       "      <td>83.266172</td>\n",
       "      <td>11.284548</td>\n",
       "      <td>538.24</td>\n",
       "      <td>72.944333</td>\n",
       "      <td>9.885694</td>\n",
       "    </tr>\n",
       "  </tbody>\n",
       "</table>\n",
       "<p>5 rows × 101 columns</p>\n",
       "</div>"
      ],
      "text/plain": [
       "                     e2v03  no2  Temp    Rh     ln_O3   ln_temp     ln_rh  \\\n",
       "date                                                                        \n",
       "2014-07-17 17:56:40    608  871  36.2  23.4  6.410175  3.589059  3.152736   \n",
       "2014-07-17 17:56:45    609  870  36.2  23.3  6.411818  3.589059  3.148453   \n",
       "2014-07-17 17:56:50    609  870  36.2  23.3  6.411818  3.589059  3.148453   \n",
       "2014-07-17 17:56:55    608  869  36.3  23.3  6.410175  3.591818  3.148453   \n",
       "2014-07-17 17:57:00    609  868  36.2  23.2  6.411818  3.589059  3.144152   \n",
       "\n",
       "                    e2v03_int_lag_1 e2v03_int_lag_3 e2v03_int_lag_5    ...     \\\n",
       "date                                                                   ...      \n",
       "2014-07-17 17:56:40               0            1218          2434.5    ...      \n",
       "2014-07-17 17:56:45               0          1217.5            2435    ...      \n",
       "2014-07-17 17:56:50               0            1217            2435    ...      \n",
       "2014-07-17 17:56:55               0          1217.5            2435    ...      \n",
       "2014-07-17 17:57:00               0          1217.5          2434.5    ...      \n",
       "\n",
       "                     Temp_sq Temp_interact_ln_temp Temp_interact_Rh  \\\n",
       "date                                                                  \n",
       "2014-07-17 17:56:40  1310.44            129.923940           847.08   \n",
       "2014-07-17 17:56:45  1310.44            129.923940           843.46   \n",
       "2014-07-17 17:56:50  1310.44            129.923940           843.46   \n",
       "2014-07-17 17:56:55  1317.69            130.382984           845.79   \n",
       "2014-07-17 17:57:00  1310.44            129.923940           839.84   \n",
       "\n",
       "                     Temp_interact_ln_rh ln_temp_sq ln_temp_interact_Rh  \\\n",
       "date                                                                      \n",
       "2014-07-17 17:56:40           114.129044  12.881345           83.983983   \n",
       "2014-07-17 17:56:45           113.974012  12.881345           83.625077   \n",
       "2014-07-17 17:56:50           113.974012  12.881345           83.625077   \n",
       "2014-07-17 17:56:55           114.288857  12.901155           83.689353   \n",
       "2014-07-17 17:57:00           113.818312  12.881345           83.266172   \n",
       "\n",
       "                    ln_temp_interact_ln_rh   Rh_sq Rh_interact_ln_rh  ln_rh_sq  \n",
       "date                                                                            \n",
       "2014-07-17 17:56:40              11.315356  547.56         73.774023  9.939744  \n",
       "2014-07-17 17:56:45              11.299985  542.89         73.358963  9.912759  \n",
       "2014-07-17 17:56:50              11.299985  542.89         73.358963  9.912759  \n",
       "2014-07-17 17:56:55              11.308671  542.89         73.358963  9.912759  \n",
       "2014-07-17 17:57:00              11.284548  538.24         72.944333  9.885694  \n",
       "\n",
       "[5 rows x 101 columns]"
      ]
     },
     "execution_count": 143,
     "metadata": {},
     "output_type": "execute_result"
    }
   ],
   "source": [
    "df_P.head()"
   ]
  },
  {
   "cell_type": "code",
   "execution_count": 145,
   "metadata": {
    "collapsed": false
   },
   "outputs": [],
   "source": [
    "df_P.to_csv(path_or_buf = 'cham3_coll_feat.csv')"
   ]
  },
  {
   "cell_type": "code",
   "execution_count": null,
   "metadata": {
    "collapsed": false
   },
   "outputs": [],
   "source": []
  },
  {
   "cell_type": "code",
   "execution_count": null,
   "metadata": {
    "collapsed": true
   },
   "outputs": [],
   "source": []
  },
  {
   "cell_type": "code",
   "execution_count": null,
   "metadata": {
    "collapsed": true
   },
   "outputs": [],
   "source": []
  },
  {
   "cell_type": "code",
   "execution_count": null,
   "metadata": {
    "collapsed": true
   },
   "outputs": [],
   "source": []
  },
  {
   "cell_type": "code",
   "execution_count": null,
   "metadata": {
    "collapsed": true
   },
   "outputs": [],
   "source": []
  }
 ],
 "metadata": {
  "kernelspec": {
   "display_name": "Python 2",
   "language": "python",
   "name": "python2"
  },
  "language_info": {
   "codemirror_mode": {
    "name": "ipython",
    "version": 2
   },
   "file_extension": ".py",
   "mimetype": "text/x-python",
   "name": "python",
   "nbconvert_exporter": "python",
   "pygments_lexer": "ipython2",
   "version": "2.7.10"
  }
 },
 "nbformat": 4,
 "nbformat_minor": 0
}

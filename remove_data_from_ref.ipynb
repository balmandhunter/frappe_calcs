{
 "cells": [
  {
   "cell_type": "code",
   "execution_count": 1,
   "metadata": {
    "collapsed": true
   },
   "outputs": [],
   "source": [
    "import pandas as pd\n",
    "import matplotlib.pyplot as plt\n",
    "import seaborn as sns\n",
    "import numpy as np\n",
    "from scipy import signal\n",
    "%matplotlib inline"
   ]
  },
  {
   "cell_type": "markdown",
   "metadata": {},
   "source": [
    "#### Import the open/close time data."
   ]
  },
  {
   "cell_type": "code",
   "execution_count": 15,
   "metadata": {
    "collapsed": false
   },
   "outputs": [
    {
     "name": "stdout",
     "output_type": "stream",
     "text": [
      "   year  month  day  hour  min  sec  close_hour  cmin  csec  open_hour  omin  \\\n",
      "0  2014      7   18    16   16   27          16    38     0         16    37   \n",
      "1  2014      7   18    17   18   41          17    40    19         17    39   \n",
      "2  2014      7   18    18   21    1          18    42    39         18    42   \n",
      "3  2014      7   18    19   23   21          19    45     0         19    44   \n",
      "4  2014      7   18    20   25   42          20    47    20         20    46   \n",
      "\n",
      "   osec  camb  close_month  close_day  \n",
      "0    29     1            7         18  \n",
      "1    49     1            7         18  \n",
      "2     9     1            7         18  \n",
      "3    29     1            7         18  \n",
      "4    50     1            7         18  \n"
     ]
    }
   ],
   "source": [
    "df = pd.read_csv(filepath_or_buffer = 'data/cham1_coll_close_times.csv', index_col = False)\n",
    "print df.head()"
   ]
  },
  {
   "cell_type": "code",
   "execution_count": 16,
   "metadata": {
    "collapsed": false
   },
   "outputs": [],
   "source": [
    "df['sec'] = df['sec'].map(lambda x: 0 if x == 60 else x)\n",
    "def f(x): return round(x)\n",
    "df['sec'] = map(f, df['sec'])\n",
    "df['closing'] = pd.to_datetime(df.year.astype(str) + '-' + df.month.astype(str) + '-' + df.day.astype(str) + ' ' + df.open_hour.astype(str) + ':' + df['omin'].astype(str) + ':' + df.osec.astype(str))\n",
    "df['closed'] = pd.to_datetime(df.year.astype(str) + '-' + df.month.astype(str) + '-' + df.day.astype(str) + ' ' + df.close_hour.astype(str) + ':' + df['cmin'].astype(str) + ':' + df.csec.astype(str))\n",
    "df['end_of_run'] = pd.to_datetime(df.year.astype(str) + '-' + df.month.astype(str) + '-' + df.day.astype(str) + ' ' + df.hour.astype(str) + ':' + df['min'].astype(str) + ':' + df.sec.astype(str))\n",
    "df = df.set_index(pd.DatetimeIndex(df['end_of_run']))"
   ]
  },
  {
   "cell_type": "code",
   "execution_count": 17,
   "metadata": {
    "collapsed": false
   },
   "outputs": [
    {
     "data": {
      "text/html": [
       "<div>\n",
       "<table border=\"1\" class=\"dataframe\">\n",
       "  <thead>\n",
       "    <tr style=\"text-align: right;\">\n",
       "      <th></th>\n",
       "      <th>year</th>\n",
       "      <th>month</th>\n",
       "      <th>day</th>\n",
       "      <th>hour</th>\n",
       "      <th>min</th>\n",
       "      <th>sec</th>\n",
       "      <th>close_hour</th>\n",
       "      <th>cmin</th>\n",
       "      <th>csec</th>\n",
       "      <th>open_hour</th>\n",
       "      <th>omin</th>\n",
       "      <th>osec</th>\n",
       "      <th>camb</th>\n",
       "      <th>close_month</th>\n",
       "      <th>close_day</th>\n",
       "      <th>closing</th>\n",
       "      <th>closed</th>\n",
       "      <th>end_of_run</th>\n",
       "    </tr>\n",
       "  </thead>\n",
       "  <tbody>\n",
       "    <tr>\n",
       "      <th>2014-07-18 16:16:27</th>\n",
       "      <td>2014</td>\n",
       "      <td>7</td>\n",
       "      <td>18</td>\n",
       "      <td>16</td>\n",
       "      <td>16</td>\n",
       "      <td>27</td>\n",
       "      <td>16</td>\n",
       "      <td>38</td>\n",
       "      <td>0</td>\n",
       "      <td>16</td>\n",
       "      <td>37</td>\n",
       "      <td>29</td>\n",
       "      <td>1</td>\n",
       "      <td>7</td>\n",
       "      <td>18</td>\n",
       "      <td>2014-07-18 16:37:29</td>\n",
       "      <td>2014-07-18 16:38:00</td>\n",
       "      <td>2014-07-18 16:16:27</td>\n",
       "    </tr>\n",
       "    <tr>\n",
       "      <th>2014-07-18 17:18:41</th>\n",
       "      <td>2014</td>\n",
       "      <td>7</td>\n",
       "      <td>18</td>\n",
       "      <td>17</td>\n",
       "      <td>18</td>\n",
       "      <td>41</td>\n",
       "      <td>17</td>\n",
       "      <td>40</td>\n",
       "      <td>19</td>\n",
       "      <td>17</td>\n",
       "      <td>39</td>\n",
       "      <td>49</td>\n",
       "      <td>1</td>\n",
       "      <td>7</td>\n",
       "      <td>18</td>\n",
       "      <td>2014-07-18 17:39:49</td>\n",
       "      <td>2014-07-18 17:40:19</td>\n",
       "      <td>2014-07-18 17:18:41</td>\n",
       "    </tr>\n",
       "    <tr>\n",
       "      <th>2014-07-18 18:21:01</th>\n",
       "      <td>2014</td>\n",
       "      <td>7</td>\n",
       "      <td>18</td>\n",
       "      <td>18</td>\n",
       "      <td>21</td>\n",
       "      <td>1</td>\n",
       "      <td>18</td>\n",
       "      <td>42</td>\n",
       "      <td>39</td>\n",
       "      <td>18</td>\n",
       "      <td>42</td>\n",
       "      <td>9</td>\n",
       "      <td>1</td>\n",
       "      <td>7</td>\n",
       "      <td>18</td>\n",
       "      <td>2014-07-18 18:42:09</td>\n",
       "      <td>2014-07-18 18:42:39</td>\n",
       "      <td>2014-07-18 18:21:01</td>\n",
       "    </tr>\n",
       "    <tr>\n",
       "      <th>2014-07-18 19:23:21</th>\n",
       "      <td>2014</td>\n",
       "      <td>7</td>\n",
       "      <td>18</td>\n",
       "      <td>19</td>\n",
       "      <td>23</td>\n",
       "      <td>21</td>\n",
       "      <td>19</td>\n",
       "      <td>45</td>\n",
       "      <td>0</td>\n",
       "      <td>19</td>\n",
       "      <td>44</td>\n",
       "      <td>29</td>\n",
       "      <td>1</td>\n",
       "      <td>7</td>\n",
       "      <td>18</td>\n",
       "      <td>2014-07-18 19:44:29</td>\n",
       "      <td>2014-07-18 19:45:00</td>\n",
       "      <td>2014-07-18 19:23:21</td>\n",
       "    </tr>\n",
       "    <tr>\n",
       "      <th>2014-07-18 20:25:42</th>\n",
       "      <td>2014</td>\n",
       "      <td>7</td>\n",
       "      <td>18</td>\n",
       "      <td>20</td>\n",
       "      <td>25</td>\n",
       "      <td>42</td>\n",
       "      <td>20</td>\n",
       "      <td>47</td>\n",
       "      <td>20</td>\n",
       "      <td>20</td>\n",
       "      <td>46</td>\n",
       "      <td>50</td>\n",
       "      <td>1</td>\n",
       "      <td>7</td>\n",
       "      <td>18</td>\n",
       "      <td>2014-07-18 20:46:50</td>\n",
       "      <td>2014-07-18 20:47:20</td>\n",
       "      <td>2014-07-18 20:25:42</td>\n",
       "    </tr>\n",
       "  </tbody>\n",
       "</table>\n",
       "</div>"
      ],
      "text/plain": [
       "                     year  month  day  hour  min  sec  close_hour  cmin  csec  \\\n",
       "2014-07-18 16:16:27  2014      7   18    16   16   27          16    38     0   \n",
       "2014-07-18 17:18:41  2014      7   18    17   18   41          17    40    19   \n",
       "2014-07-18 18:21:01  2014      7   18    18   21    1          18    42    39   \n",
       "2014-07-18 19:23:21  2014      7   18    19   23   21          19    45     0   \n",
       "2014-07-18 20:25:42  2014      7   18    20   25   42          20    47    20   \n",
       "\n",
       "                     open_hour  omin  osec  camb  close_month  close_day  \\\n",
       "2014-07-18 16:16:27         16    37    29     1            7         18   \n",
       "2014-07-18 17:18:41         17    39    49     1            7         18   \n",
       "2014-07-18 18:21:01         18    42     9     1            7         18   \n",
       "2014-07-18 19:23:21         19    44    29     1            7         18   \n",
       "2014-07-18 20:25:42         20    46    50     1            7         18   \n",
       "\n",
       "                                closing              closed  \\\n",
       "2014-07-18 16:16:27 2014-07-18 16:37:29 2014-07-18 16:38:00   \n",
       "2014-07-18 17:18:41 2014-07-18 17:39:49 2014-07-18 17:40:19   \n",
       "2014-07-18 18:21:01 2014-07-18 18:42:09 2014-07-18 18:42:39   \n",
       "2014-07-18 19:23:21 2014-07-18 19:44:29 2014-07-18 19:45:00   \n",
       "2014-07-18 20:25:42 2014-07-18 20:46:50 2014-07-18 20:47:20   \n",
       "\n",
       "                             end_of_run  \n",
       "2014-07-18 16:16:27 2014-07-18 16:16:27  \n",
       "2014-07-18 17:18:41 2014-07-18 17:18:41  \n",
       "2014-07-18 18:21:01 2014-07-18 18:21:01  \n",
       "2014-07-18 19:23:21 2014-07-18 19:23:21  \n",
       "2014-07-18 20:25:42 2014-07-18 20:25:42  "
      ]
     },
     "execution_count": 17,
     "metadata": {},
     "output_type": "execute_result"
    }
   ],
   "source": [
    "df.head()"
   ]
  },
  {
   "cell_type": "markdown",
   "metadata": {},
   "source": [
    "#### Import the reference data."
   ]
  },
  {
   "cell_type": "code",
   "execution_count": 18,
   "metadata": {
    "collapsed": false
   },
   "outputs": [
    {
     "ename": "IOError",
     "evalue": "File data/coll_ref.csv does not exist",
     "output_type": "error",
     "traceback": [
      "\u001b[0;31m---------------------------------------------------------------------------\u001b[0m",
      "\u001b[0;31mIOError\u001b[0m                                   Traceback (most recent call last)",
      "\u001b[0;32m<ipython-input-18-59e865dd8d5a>\u001b[0m in \u001b[0;36m<module>\u001b[0;34m()\u001b[0m\n\u001b[0;32m----> 1\u001b[0;31m \u001b[0mdf_R\u001b[0m \u001b[0;34m=\u001b[0m \u001b[0mpd\u001b[0m\u001b[0;34m.\u001b[0m\u001b[0mread_csv\u001b[0m\u001b[0;34m(\u001b[0m\u001b[0mfilepath_or_buffer\u001b[0m \u001b[0;34m=\u001b[0m \u001b[0;34m'data/coll_ref.csv'\u001b[0m\u001b[0;34m,\u001b[0m \u001b[0mparse_dates\u001b[0m \u001b[0;34m=\u001b[0m \u001b[0;34m[\u001b[0m\u001b[0;36m0\u001b[0m\u001b[0;34m]\u001b[0m\u001b[0;34m,\u001b[0m \u001b[0mindex_col\u001b[0m \u001b[0;34m=\u001b[0m \u001b[0;36m0\u001b[0m\u001b[0;34m)\u001b[0m\u001b[0;34m\u001b[0m\u001b[0m\n\u001b[0m\u001b[1;32m      2\u001b[0m \u001b[0mdf_R\u001b[0m\u001b[0;34m.\u001b[0m\u001b[0mhead\u001b[0m\u001b[0;34m(\u001b[0m\u001b[0;34m)\u001b[0m\u001b[0;34m\u001b[0m\u001b[0m\n",
      "\u001b[0;32m/Users/berkeleyalmand/anaconda/lib/python2.7/site-packages/pandas/io/parsers.pyc\u001b[0m in \u001b[0;36mparser_f\u001b[0;34m(filepath_or_buffer, sep, dialect, compression, doublequote, escapechar, quotechar, quoting, skipinitialspace, lineterminator, header, index_col, names, prefix, skiprows, skipfooter, skip_footer, na_values, true_values, false_values, delimiter, converters, dtype, usecols, engine, delim_whitespace, as_recarray, na_filter, compact_ints, use_unsigned, low_memory, buffer_lines, warn_bad_lines, error_bad_lines, keep_default_na, thousands, comment, decimal, parse_dates, keep_date_col, dayfirst, date_parser, memory_map, float_precision, nrows, iterator, chunksize, verbose, encoding, squeeze, mangle_dupe_cols, tupleize_cols, infer_datetime_format, skip_blank_lines)\u001b[0m\n\u001b[1;32m    489\u001b[0m                     skip_blank_lines=skip_blank_lines)\n\u001b[1;32m    490\u001b[0m \u001b[0;34m\u001b[0m\u001b[0m\n\u001b[0;32m--> 491\u001b[0;31m         \u001b[0;32mreturn\u001b[0m \u001b[0m_read\u001b[0m\u001b[0;34m(\u001b[0m\u001b[0mfilepath_or_buffer\u001b[0m\u001b[0;34m,\u001b[0m \u001b[0mkwds\u001b[0m\u001b[0;34m)\u001b[0m\u001b[0;34m\u001b[0m\u001b[0m\n\u001b[0m\u001b[1;32m    492\u001b[0m \u001b[0;34m\u001b[0m\u001b[0m\n\u001b[1;32m    493\u001b[0m     \u001b[0mparser_f\u001b[0m\u001b[0;34m.\u001b[0m\u001b[0m__name__\u001b[0m \u001b[0;34m=\u001b[0m \u001b[0mname\u001b[0m\u001b[0;34m\u001b[0m\u001b[0m\n",
      "\u001b[0;32m/Users/berkeleyalmand/anaconda/lib/python2.7/site-packages/pandas/io/parsers.pyc\u001b[0m in \u001b[0;36m_read\u001b[0;34m(filepath_or_buffer, kwds)\u001b[0m\n\u001b[1;32m    266\u001b[0m \u001b[0;34m\u001b[0m\u001b[0m\n\u001b[1;32m    267\u001b[0m     \u001b[0;31m# Create the parser.\u001b[0m\u001b[0;34m\u001b[0m\u001b[0;34m\u001b[0m\u001b[0m\n\u001b[0;32m--> 268\u001b[0;31m     \u001b[0mparser\u001b[0m \u001b[0;34m=\u001b[0m \u001b[0mTextFileReader\u001b[0m\u001b[0;34m(\u001b[0m\u001b[0mfilepath_or_buffer\u001b[0m\u001b[0;34m,\u001b[0m \u001b[0;34m**\u001b[0m\u001b[0mkwds\u001b[0m\u001b[0;34m)\u001b[0m\u001b[0;34m\u001b[0m\u001b[0m\n\u001b[0m\u001b[1;32m    269\u001b[0m \u001b[0;34m\u001b[0m\u001b[0m\n\u001b[1;32m    270\u001b[0m     \u001b[0;32mif\u001b[0m \u001b[0;34m(\u001b[0m\u001b[0mnrows\u001b[0m \u001b[0;32mis\u001b[0m \u001b[0;32mnot\u001b[0m \u001b[0mNone\u001b[0m\u001b[0;34m)\u001b[0m \u001b[0;32mand\u001b[0m \u001b[0;34m(\u001b[0m\u001b[0mchunksize\u001b[0m \u001b[0;32mis\u001b[0m \u001b[0;32mnot\u001b[0m \u001b[0mNone\u001b[0m\u001b[0;34m)\u001b[0m\u001b[0;34m:\u001b[0m\u001b[0;34m\u001b[0m\u001b[0m\n",
      "\u001b[0;32m/Users/berkeleyalmand/anaconda/lib/python2.7/site-packages/pandas/io/parsers.pyc\u001b[0m in \u001b[0;36m__init__\u001b[0;34m(self, f, engine, **kwds)\u001b[0m\n\u001b[1;32m    581\u001b[0m             \u001b[0mself\u001b[0m\u001b[0;34m.\u001b[0m\u001b[0moptions\u001b[0m\u001b[0;34m[\u001b[0m\u001b[0;34m'has_index_names'\u001b[0m\u001b[0;34m]\u001b[0m \u001b[0;34m=\u001b[0m \u001b[0mkwds\u001b[0m\u001b[0;34m[\u001b[0m\u001b[0;34m'has_index_names'\u001b[0m\u001b[0;34m]\u001b[0m\u001b[0;34m\u001b[0m\u001b[0m\n\u001b[1;32m    582\u001b[0m \u001b[0;34m\u001b[0m\u001b[0m\n\u001b[0;32m--> 583\u001b[0;31m         \u001b[0mself\u001b[0m\u001b[0;34m.\u001b[0m\u001b[0m_make_engine\u001b[0m\u001b[0;34m(\u001b[0m\u001b[0mself\u001b[0m\u001b[0;34m.\u001b[0m\u001b[0mengine\u001b[0m\u001b[0;34m)\u001b[0m\u001b[0;34m\u001b[0m\u001b[0m\n\u001b[0m\u001b[1;32m    584\u001b[0m \u001b[0;34m\u001b[0m\u001b[0m\n\u001b[1;32m    585\u001b[0m     \u001b[0;32mdef\u001b[0m \u001b[0m_get_options_with_defaults\u001b[0m\u001b[0;34m(\u001b[0m\u001b[0mself\u001b[0m\u001b[0;34m,\u001b[0m \u001b[0mengine\u001b[0m\u001b[0;34m)\u001b[0m\u001b[0;34m:\u001b[0m\u001b[0;34m\u001b[0m\u001b[0m\n",
      "\u001b[0;32m/Users/berkeleyalmand/anaconda/lib/python2.7/site-packages/pandas/io/parsers.pyc\u001b[0m in \u001b[0;36m_make_engine\u001b[0;34m(self, engine)\u001b[0m\n\u001b[1;32m    722\u001b[0m     \u001b[0;32mdef\u001b[0m \u001b[0m_make_engine\u001b[0m\u001b[0;34m(\u001b[0m\u001b[0mself\u001b[0m\u001b[0;34m,\u001b[0m \u001b[0mengine\u001b[0m\u001b[0;34m=\u001b[0m\u001b[0;34m'c'\u001b[0m\u001b[0;34m)\u001b[0m\u001b[0;34m:\u001b[0m\u001b[0;34m\u001b[0m\u001b[0m\n\u001b[1;32m    723\u001b[0m         \u001b[0;32mif\u001b[0m \u001b[0mengine\u001b[0m \u001b[0;34m==\u001b[0m \u001b[0;34m'c'\u001b[0m\u001b[0;34m:\u001b[0m\u001b[0;34m\u001b[0m\u001b[0m\n\u001b[0;32m--> 724\u001b[0;31m             \u001b[0mself\u001b[0m\u001b[0;34m.\u001b[0m\u001b[0m_engine\u001b[0m \u001b[0;34m=\u001b[0m \u001b[0mCParserWrapper\u001b[0m\u001b[0;34m(\u001b[0m\u001b[0mself\u001b[0m\u001b[0;34m.\u001b[0m\u001b[0mf\u001b[0m\u001b[0;34m,\u001b[0m \u001b[0;34m**\u001b[0m\u001b[0mself\u001b[0m\u001b[0;34m.\u001b[0m\u001b[0moptions\u001b[0m\u001b[0;34m)\u001b[0m\u001b[0;34m\u001b[0m\u001b[0m\n\u001b[0m\u001b[1;32m    725\u001b[0m         \u001b[0;32melse\u001b[0m\u001b[0;34m:\u001b[0m\u001b[0;34m\u001b[0m\u001b[0m\n\u001b[1;32m    726\u001b[0m             \u001b[0;32mif\u001b[0m \u001b[0mengine\u001b[0m \u001b[0;34m==\u001b[0m \u001b[0;34m'python'\u001b[0m\u001b[0;34m:\u001b[0m\u001b[0;34m\u001b[0m\u001b[0m\n",
      "\u001b[0;32m/Users/berkeleyalmand/anaconda/lib/python2.7/site-packages/pandas/io/parsers.pyc\u001b[0m in \u001b[0;36m__init__\u001b[0;34m(self, src, **kwds)\u001b[0m\n\u001b[1;32m   1091\u001b[0m         \u001b[0mkwds\u001b[0m\u001b[0;34m[\u001b[0m\u001b[0;34m'allow_leading_cols'\u001b[0m\u001b[0;34m]\u001b[0m \u001b[0;34m=\u001b[0m \u001b[0mself\u001b[0m\u001b[0;34m.\u001b[0m\u001b[0mindex_col\u001b[0m \u001b[0;32mis\u001b[0m \u001b[0;32mnot\u001b[0m \u001b[0mFalse\u001b[0m\u001b[0;34m\u001b[0m\u001b[0m\n\u001b[1;32m   1092\u001b[0m \u001b[0;34m\u001b[0m\u001b[0m\n\u001b[0;32m-> 1093\u001b[0;31m         \u001b[0mself\u001b[0m\u001b[0;34m.\u001b[0m\u001b[0m_reader\u001b[0m \u001b[0;34m=\u001b[0m \u001b[0m_parser\u001b[0m\u001b[0;34m.\u001b[0m\u001b[0mTextReader\u001b[0m\u001b[0;34m(\u001b[0m\u001b[0msrc\u001b[0m\u001b[0;34m,\u001b[0m \u001b[0;34m**\u001b[0m\u001b[0mkwds\u001b[0m\u001b[0;34m)\u001b[0m\u001b[0;34m\u001b[0m\u001b[0m\n\u001b[0m\u001b[1;32m   1094\u001b[0m \u001b[0;34m\u001b[0m\u001b[0m\n\u001b[1;32m   1095\u001b[0m         \u001b[0;31m# XXX\u001b[0m\u001b[0;34m\u001b[0m\u001b[0;34m\u001b[0m\u001b[0m\n",
      "\u001b[0;32mpandas/parser.pyx\u001b[0m in \u001b[0;36mpandas.parser.TextReader.__cinit__ (pandas/parser.c:3229)\u001b[0;34m()\u001b[0m\n",
      "\u001b[0;32mpandas/parser.pyx\u001b[0m in \u001b[0;36mpandas.parser.TextReader._setup_parser_source (pandas/parser.c:6042)\u001b[0;34m()\u001b[0m\n",
      "\u001b[0;31mIOError\u001b[0m: File data/coll_ref.csv does not exist"
     ]
    }
   ],
   "source": [
    "df_R = pd.read_csv(filepath_or_buffer = 'data/coll_ref.csv', parse_dates = [0], index_col = 0)\n",
    "df_R.head()"
   ]
  },
  {
   "cell_type": "code",
   "execution_count": 6,
   "metadata": {
    "collapsed": false
   },
   "outputs": [],
   "source": [
    "df['start'] = df.closing - pd.Timedelta(minutes=10)\n",
    "df['stop'] = df.closed + pd.Timedelta(minutes=10)"
   ]
  },
  {
   "cell_type": "markdown",
   "metadata": {},
   "source": [
    "#### Use this code to get closed data points"
   ]
  },
  {
   "cell_type": "code",
   "execution_count": 7,
   "metadata": {
    "collapsed": false,
    "scrolled": false
   },
   "outputs": [],
   "source": [
    "# df_new = pd.DataFrame({'o3_ppb':[]})\n",
    "# date_list = []\n",
    "# o3_list = []\n",
    "# for row_index, row in df.iterrows():\n",
    "#     for row_index_ref, row_ref in df_R.iterrows():\n",
    "#         if row_index_ref >= (row.closed + pd.Timedelta(minutes=4)) and row_index_ref <= (row.closed + pd.Timedelta(minutes=7)):\n",
    "#             date_list.append(row_index_ref)\n",
    "#             o3_list.append(int(row_ref.e2v03))"
   ]
  },
  {
   "cell_type": "markdown",
   "metadata": {},
   "source": [
    "#### Use this for open data points"
   ]
  },
  {
   "cell_type": "code",
   "execution_count": 8,
   "metadata": {
    "collapsed": true
   },
   "outputs": [],
   "source": [
    "df_new = pd.DataFrame({'o3_ppb':[]})\n",
    "date_list = []\n",
    "o3_list = []\n",
    "for row_index, row in df.iterrows():\n",
    "    for row_index_ref, row_ref in df_R.iterrows():\n",
    "        if row_index_ref >= (row.closing - pd.Timedelta(minutes=10)) and row_index_ref <= (row.closing - pd.Timedelta(minutes=3)):\n",
    "            date_list.append(row_index_ref)\n",
    "            o3_list.append(int(row_ref.e2v03))"
   ]
  },
  {
   "cell_type": "code",
   "execution_count": 9,
   "metadata": {
    "collapsed": false
   },
   "outputs": [],
   "source": [
    "df_new.o3_ppb = o3_list\n",
    "df_new['date'] = date_list"
   ]
  },
  {
   "cell_type": "code",
   "execution_count": 10,
   "metadata": {
    "collapsed": false
   },
   "outputs": [
    {
     "data": {
      "text/html": [
       "<div>\n",
       "<table border=\"1\" class=\"dataframe\">\n",
       "  <thead>\n",
       "    <tr style=\"text-align: right;\">\n",
       "      <th></th>\n",
       "      <th>o3_ppb</th>\n",
       "      <th>date</th>\n",
       "    </tr>\n",
       "  </thead>\n",
       "  <tbody>\n",
       "  </tbody>\n",
       "</table>\n",
       "</div>"
      ],
      "text/plain": [
       "Empty DataFrame\n",
       "Columns: [o3_ppb, date]\n",
       "Index: []"
      ]
     },
     "execution_count": 10,
     "metadata": {},
     "output_type": "execute_result"
    }
   ],
   "source": [
    "df_new.head()"
   ]
  },
  {
   "cell_type": "code",
   "execution_count": 109,
   "metadata": {
    "collapsed": true
   },
   "outputs": [],
   "source": [
    "df_R['date'] = df_R.index"
   ]
  },
  {
   "cell_type": "code",
   "execution_count": 110,
   "metadata": {
    "collapsed": false,
    "scrolled": false
   },
   "outputs": [],
   "source": [
    "df_final = pd.merge(df_new, df_R, how='inner', on='date')"
   ]
  },
  {
   "cell_type": "code",
   "execution_count": 111,
   "metadata": {
    "collapsed": false
   },
   "outputs": [
    {
     "data": {
      "text/html": [
       "<div>\n",
       "<table border=\"1\" class=\"dataframe\">\n",
       "  <thead>\n",
       "    <tr style=\"text-align: right;\">\n",
       "      <th></th>\n",
       "      <th>o3_ppb</th>\n",
       "      <th>date</th>\n",
       "      <th>e2v03</th>\n",
       "      <th>no2</th>\n",
       "      <th>Temp</th>\n",
       "      <th>Rh</th>\n",
       "      <th>ln_O3</th>\n",
       "      <th>ln_temp</th>\n",
       "      <th>ln_rh</th>\n",
       "      <th>e2v03_int_lag_1</th>\n",
       "      <th>...</th>\n",
       "      <th>Temp_sq</th>\n",
       "      <th>Temp_interact_ln_temp</th>\n",
       "      <th>Temp_interact_Rh</th>\n",
       "      <th>Temp_interact_ln_rh</th>\n",
       "      <th>ln_temp_sq</th>\n",
       "      <th>ln_temp_interact_Rh</th>\n",
       "      <th>ln_temp_interact_ln_rh</th>\n",
       "      <th>Rh_sq</th>\n",
       "      <th>Rh_interact_ln_rh</th>\n",
       "      <th>ln_rh_sq</th>\n",
       "    </tr>\n",
       "  </thead>\n",
       "  <tbody>\n",
       "    <tr>\n",
       "      <th>0</th>\n",
       "      <td>677</td>\n",
       "      <td>2014-07-21 14:45:59</td>\n",
       "      <td>677</td>\n",
       "      <td>848</td>\n",
       "      <td>51.1</td>\n",
       "      <td>12.0</td>\n",
       "      <td>6.517671</td>\n",
       "      <td>3.933784</td>\n",
       "      <td>2.484907</td>\n",
       "      <td>0</td>\n",
       "      <td>...</td>\n",
       "      <td>2611.21</td>\n",
       "      <td>201.016388</td>\n",
       "      <td>613.20</td>\n",
       "      <td>126.978730</td>\n",
       "      <td>15.474660</td>\n",
       "      <td>47.205414</td>\n",
       "      <td>9.775087</td>\n",
       "      <td>144.00</td>\n",
       "      <td>29.818880</td>\n",
       "      <td>6.174761</td>\n",
       "    </tr>\n",
       "    <tr>\n",
       "      <th>1</th>\n",
       "      <td>677</td>\n",
       "      <td>2014-07-21 14:46:03</td>\n",
       "      <td>677</td>\n",
       "      <td>848</td>\n",
       "      <td>51.1</td>\n",
       "      <td>12.0</td>\n",
       "      <td>6.517671</td>\n",
       "      <td>3.933784</td>\n",
       "      <td>2.484907</td>\n",
       "      <td>0</td>\n",
       "      <td>...</td>\n",
       "      <td>2611.21</td>\n",
       "      <td>201.016388</td>\n",
       "      <td>613.20</td>\n",
       "      <td>126.978730</td>\n",
       "      <td>15.474660</td>\n",
       "      <td>47.205414</td>\n",
       "      <td>9.775087</td>\n",
       "      <td>144.00</td>\n",
       "      <td>29.818880</td>\n",
       "      <td>6.174761</td>\n",
       "    </tr>\n",
       "    <tr>\n",
       "      <th>2</th>\n",
       "      <td>677</td>\n",
       "      <td>2014-07-21 14:46:08</td>\n",
       "      <td>677</td>\n",
       "      <td>848</td>\n",
       "      <td>51.2</td>\n",
       "      <td>12.0</td>\n",
       "      <td>6.517671</td>\n",
       "      <td>3.935740</td>\n",
       "      <td>2.484907</td>\n",
       "      <td>0</td>\n",
       "      <td>...</td>\n",
       "      <td>2621.44</td>\n",
       "      <td>201.509864</td>\n",
       "      <td>614.40</td>\n",
       "      <td>127.227220</td>\n",
       "      <td>15.490046</td>\n",
       "      <td>47.228874</td>\n",
       "      <td>9.779945</td>\n",
       "      <td>144.00</td>\n",
       "      <td>29.818880</td>\n",
       "      <td>6.174761</td>\n",
       "    </tr>\n",
       "    <tr>\n",
       "      <th>3</th>\n",
       "      <td>677</td>\n",
       "      <td>2014-07-21 14:46:13</td>\n",
       "      <td>677</td>\n",
       "      <td>848</td>\n",
       "      <td>51.1</td>\n",
       "      <td>12.0</td>\n",
       "      <td>6.517671</td>\n",
       "      <td>3.933784</td>\n",
       "      <td>2.484907</td>\n",
       "      <td>0</td>\n",
       "      <td>...</td>\n",
       "      <td>2611.21</td>\n",
       "      <td>201.016388</td>\n",
       "      <td>613.20</td>\n",
       "      <td>126.978730</td>\n",
       "      <td>15.474660</td>\n",
       "      <td>47.205414</td>\n",
       "      <td>9.775087</td>\n",
       "      <td>144.00</td>\n",
       "      <td>29.818880</td>\n",
       "      <td>6.174761</td>\n",
       "    </tr>\n",
       "    <tr>\n",
       "      <th>4</th>\n",
       "      <td>678</td>\n",
       "      <td>2014-07-21 14:46:18</td>\n",
       "      <td>678</td>\n",
       "      <td>848</td>\n",
       "      <td>51.2</td>\n",
       "      <td>12.1</td>\n",
       "      <td>6.519147</td>\n",
       "      <td>3.935740</td>\n",
       "      <td>2.493205</td>\n",
       "      <td>0</td>\n",
       "      <td>...</td>\n",
       "      <td>2621.44</td>\n",
       "      <td>201.509864</td>\n",
       "      <td>619.52</td>\n",
       "      <td>127.652119</td>\n",
       "      <td>15.490046</td>\n",
       "      <td>47.622448</td>\n",
       "      <td>9.812607</td>\n",
       "      <td>146.41</td>\n",
       "      <td>30.167786</td>\n",
       "      <td>6.216073</td>\n",
       "    </tr>\n",
       "  </tbody>\n",
       "</table>\n",
       "<p>5 rows × 103 columns</p>\n",
       "</div>"
      ],
      "text/plain": [
       "   o3_ppb                date  e2v03  no2  Temp    Rh     ln_O3   ln_temp  \\\n",
       "0     677 2014-07-21 14:45:59    677  848  51.1  12.0  6.517671  3.933784   \n",
       "1     677 2014-07-21 14:46:03    677  848  51.1  12.0  6.517671  3.933784   \n",
       "2     677 2014-07-21 14:46:08    677  848  51.2  12.0  6.517671  3.935740   \n",
       "3     677 2014-07-21 14:46:13    677  848  51.1  12.0  6.517671  3.933784   \n",
       "4     678 2014-07-21 14:46:18    678  848  51.2  12.1  6.519147  3.935740   \n",
       "\n",
       "      ln_rh  e2v03_int_lag_1    ...     Temp_sq  Temp_interact_ln_temp  \\\n",
       "0  2.484907                0    ...     2611.21             201.016388   \n",
       "1  2.484907                0    ...     2611.21             201.016388   \n",
       "2  2.484907                0    ...     2621.44             201.509864   \n",
       "3  2.484907                0    ...     2611.21             201.016388   \n",
       "4  2.493205                0    ...     2621.44             201.509864   \n",
       "\n",
       "   Temp_interact_Rh  Temp_interact_ln_rh  ln_temp_sq  ln_temp_interact_Rh  \\\n",
       "0            613.20           126.978730   15.474660            47.205414   \n",
       "1            613.20           126.978730   15.474660            47.205414   \n",
       "2            614.40           127.227220   15.490046            47.228874   \n",
       "3            613.20           126.978730   15.474660            47.205414   \n",
       "4            619.52           127.652119   15.490046            47.622448   \n",
       "\n",
       "   ln_temp_interact_ln_rh   Rh_sq  Rh_interact_ln_rh  ln_rh_sq  \n",
       "0                9.775087  144.00          29.818880  6.174761  \n",
       "1                9.775087  144.00          29.818880  6.174761  \n",
       "2                9.779945  144.00          29.818880  6.174761  \n",
       "3                9.775087  144.00          29.818880  6.174761  \n",
       "4                9.812607  146.41          30.167786  6.216073  \n",
       "\n",
       "[5 rows x 103 columns]"
      ]
     },
     "execution_count": 111,
     "metadata": {},
     "output_type": "execute_result"
    }
   ],
   "source": [
    "df_final.head()"
   ]
  },
  {
   "cell_type": "code",
   "execution_count": 112,
   "metadata": {
    "collapsed": false
   },
   "outputs": [],
   "source": [
    "df_final.drop('o3_ppb', axis=1, inplace=True)\n"
   ]
  },
  {
   "cell_type": "code",
   "execution_count": 113,
   "metadata": {
    "collapsed": false
   },
   "outputs": [],
   "source": [
    "df_final.set_index('date', inplace=True)"
   ]
  },
  {
   "cell_type": "code",
   "execution_count": 114,
   "metadata": {
    "collapsed": true
   },
   "outputs": [],
   "source": [
    "df_final.to_csv(path_or_buf = 'data/cham_3_open_only.csv')"
   ]
  },
  {
   "cell_type": "code",
   "execution_count": null,
   "metadata": {
    "collapsed": true
   },
   "outputs": [],
   "source": []
  }
 ],
 "metadata": {
  "kernelspec": {
   "display_name": "Python 2",
   "language": "python",
   "name": "python2"
  },
  "language_info": {
   "codemirror_mode": {
    "name": "ipython",
    "version": 2
   },
   "file_extension": ".py",
   "mimetype": "text/x-python",
   "name": "python",
   "nbconvert_exporter": "python",
   "pygments_lexer": "ipython2",
   "version": "2.7.10"
  }
 },
 "nbformat": 4,
 "nbformat_minor": 0
}
